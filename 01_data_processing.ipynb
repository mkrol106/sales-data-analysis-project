{
 "cells": [
  {
   "cell_type": "markdown",
   "id": "0dce6ba7",
   "metadata": {},
   "source": [
    "# Cleaning and wrangling the data"
   ]
  },
  {
   "cell_type": "markdown",
   "id": "68aab4c5",
   "metadata": {},
   "source": [
    "<br>\n",
    "\n",
    "## 1. Putting the data into a single dataframe"
   ]
  },
  {
   "cell_type": "markdown",
   "id": "23f202b8",
   "metadata": {},
   "source": [
    "In its raw format, the data is stored in 12 csv files corresponding to each month of the analyzed year. The goal at the start is to load those files into a single pandas dataframe."
   ]
  },
  {
   "cell_type": "markdown",
   "id": "905c74c7",
   "metadata": {},
   "source": [
    "Importing the required modules."
   ]
  },
  {
   "cell_type": "code",
   "execution_count": 1,
   "id": "d65fa5db",
   "metadata": {},
   "outputs": [],
   "source": [
    "import os\n",
    "import pandas as pd\n",
    "import numpy as np"
   ]
  },
  {
   "cell_type": "markdown",
   "id": "c5713b0f",
   "metadata": {},
   "source": [
    "Load each file in the raw_data directory into a combined pandas dataframe."
   ]
  },
  {
   "cell_type": "code",
   "execution_count": 2,
   "id": "c21ddbe1",
   "metadata": {},
   "outputs": [
    {
     "name": "stdout",
     "output_type": "stream",
     "text": [
      "n of (rows, columns): (186850, 6)\n"
     ]
    }
   ],
   "source": [
    "for i, file_name in enumerate(os.listdir('raw_data')):\n",
    "    file_path = os.path.join('raw_data', file_name)\n",
    "    file_df = pd.read_csv(file_path, index_col=None)\n",
    "    \n",
    "    if i == 0:  # create a combined dataframe\n",
    "        combined_df = file_df\n",
    "    else:       # add current file's dataframe to the combined one\n",
    "        combined_df = pd.concat([combined_df, file_df], ignore_index=True)\n",
    "\n",
    "print('n of (rows, columns):', combined_df.shape)"
   ]
  },
  {
   "cell_type": "markdown",
   "id": "ed844500",
   "metadata": {},
   "source": [
    "Now, all of the data is is loaded into a single dataframe, combined_df."
   ]
  },
  {
   "cell_type": "markdown",
   "id": "46687a16",
   "metadata": {},
   "source": [
    "<br>\n",
    "\n",
    "## 2. Data quality assessment"
   ]
  },
  {
   "cell_type": "markdown",
   "id": "3dfce42d",
   "metadata": {},
   "source": [
    "First, look at first and last 10 entries in the data"
   ]
  },
  {
   "cell_type": "code",
   "execution_count": 3,
   "id": "59592259",
   "metadata": {},
   "outputs": [
    {
     "data": {
      "text/html": [
       "<div>\n",
       "<style scoped>\n",
       "    .dataframe tbody tr th:only-of-type {\n",
       "        vertical-align: middle;\n",
       "    }\n",
       "\n",
       "    .dataframe tbody tr th {\n",
       "        vertical-align: top;\n",
       "    }\n",
       "\n",
       "    .dataframe thead th {\n",
       "        text-align: right;\n",
       "    }\n",
       "</style>\n",
       "<table border=\"1\" class=\"dataframe\">\n",
       "  <thead>\n",
       "    <tr style=\"text-align: right;\">\n",
       "      <th></th>\n",
       "      <th>Order ID</th>\n",
       "      <th>Product</th>\n",
       "      <th>Quantity Ordered</th>\n",
       "      <th>Price Each</th>\n",
       "      <th>Order Date</th>\n",
       "      <th>Purchase Address</th>\n",
       "    </tr>\n",
       "  </thead>\n",
       "  <tbody>\n",
       "    <tr>\n",
       "      <th>0</th>\n",
       "      <td>176558</td>\n",
       "      <td>USB-C Charging Cable</td>\n",
       "      <td>2</td>\n",
       "      <td>11.95</td>\n",
       "      <td>04/19/19 08:46</td>\n",
       "      <td>917 1st St, Dallas, TX 75001</td>\n",
       "    </tr>\n",
       "    <tr>\n",
       "      <th>1</th>\n",
       "      <td>NaN</td>\n",
       "      <td>NaN</td>\n",
       "      <td>NaN</td>\n",
       "      <td>NaN</td>\n",
       "      <td>NaN</td>\n",
       "      <td>NaN</td>\n",
       "    </tr>\n",
       "    <tr>\n",
       "      <th>2</th>\n",
       "      <td>176559</td>\n",
       "      <td>Bose SoundSport Headphones</td>\n",
       "      <td>1</td>\n",
       "      <td>99.99</td>\n",
       "      <td>04/07/19 22:30</td>\n",
       "      <td>682 Chestnut St, Boston, MA 02215</td>\n",
       "    </tr>\n",
       "    <tr>\n",
       "      <th>3</th>\n",
       "      <td>176560</td>\n",
       "      <td>Google Phone</td>\n",
       "      <td>1</td>\n",
       "      <td>600</td>\n",
       "      <td>04/12/19 14:38</td>\n",
       "      <td>669 Spruce St, Los Angeles, CA 90001</td>\n",
       "    </tr>\n",
       "    <tr>\n",
       "      <th>4</th>\n",
       "      <td>176560</td>\n",
       "      <td>Wired Headphones</td>\n",
       "      <td>1</td>\n",
       "      <td>11.99</td>\n",
       "      <td>04/12/19 14:38</td>\n",
       "      <td>669 Spruce St, Los Angeles, CA 90001</td>\n",
       "    </tr>\n",
       "    <tr>\n",
       "      <th>5</th>\n",
       "      <td>176561</td>\n",
       "      <td>Wired Headphones</td>\n",
       "      <td>1</td>\n",
       "      <td>11.99</td>\n",
       "      <td>04/30/19 09:27</td>\n",
       "      <td>333 8th St, Los Angeles, CA 90001</td>\n",
       "    </tr>\n",
       "    <tr>\n",
       "      <th>6</th>\n",
       "      <td>176562</td>\n",
       "      <td>USB-C Charging Cable</td>\n",
       "      <td>1</td>\n",
       "      <td>11.95</td>\n",
       "      <td>04/29/19 13:03</td>\n",
       "      <td>381 Wilson St, San Francisco, CA 94016</td>\n",
       "    </tr>\n",
       "    <tr>\n",
       "      <th>7</th>\n",
       "      <td>176563</td>\n",
       "      <td>Bose SoundSport Headphones</td>\n",
       "      <td>1</td>\n",
       "      <td>99.99</td>\n",
       "      <td>04/02/19 07:46</td>\n",
       "      <td>668 Center St, Seattle, WA 98101</td>\n",
       "    </tr>\n",
       "    <tr>\n",
       "      <th>8</th>\n",
       "      <td>176564</td>\n",
       "      <td>USB-C Charging Cable</td>\n",
       "      <td>1</td>\n",
       "      <td>11.95</td>\n",
       "      <td>04/12/19 10:58</td>\n",
       "      <td>790 Ridge St, Atlanta, GA 30301</td>\n",
       "    </tr>\n",
       "    <tr>\n",
       "      <th>9</th>\n",
       "      <td>176565</td>\n",
       "      <td>Macbook Pro Laptop</td>\n",
       "      <td>1</td>\n",
       "      <td>1700</td>\n",
       "      <td>04/24/19 10:38</td>\n",
       "      <td>915 Willow St, San Francisco, CA 94016</td>\n",
       "    </tr>\n",
       "  </tbody>\n",
       "</table>\n",
       "</div>"
      ],
      "text/plain": [
       "  Order ID                     Product Quantity Ordered Price Each  \\\n",
       "0   176558        USB-C Charging Cable                2      11.95   \n",
       "1      NaN                         NaN              NaN        NaN   \n",
       "2   176559  Bose SoundSport Headphones                1      99.99   \n",
       "3   176560                Google Phone                1        600   \n",
       "4   176560            Wired Headphones                1      11.99   \n",
       "5   176561            Wired Headphones                1      11.99   \n",
       "6   176562        USB-C Charging Cable                1      11.95   \n",
       "7   176563  Bose SoundSport Headphones                1      99.99   \n",
       "8   176564        USB-C Charging Cable                1      11.95   \n",
       "9   176565          Macbook Pro Laptop                1       1700   \n",
       "\n",
       "       Order Date                        Purchase Address  \n",
       "0  04/19/19 08:46            917 1st St, Dallas, TX 75001  \n",
       "1             NaN                                     NaN  \n",
       "2  04/07/19 22:30       682 Chestnut St, Boston, MA 02215  \n",
       "3  04/12/19 14:38    669 Spruce St, Los Angeles, CA 90001  \n",
       "4  04/12/19 14:38    669 Spruce St, Los Angeles, CA 90001  \n",
       "5  04/30/19 09:27       333 8th St, Los Angeles, CA 90001  \n",
       "6  04/29/19 13:03  381 Wilson St, San Francisco, CA 94016  \n",
       "7  04/02/19 07:46        668 Center St, Seattle, WA 98101  \n",
       "8  04/12/19 10:58         790 Ridge St, Atlanta, GA 30301  \n",
       "9  04/24/19 10:38  915 Willow St, San Francisco, CA 94016  "
      ]
     },
     "execution_count": 3,
     "metadata": {},
     "output_type": "execute_result"
    }
   ],
   "source": [
    "combined_df.head(10)"
   ]
  },
  {
   "cell_type": "code",
   "execution_count": 4,
   "id": "d3bde6b3",
   "metadata": {},
   "outputs": [
    {
     "data": {
      "text/html": [
       "<div>\n",
       "<style scoped>\n",
       "    .dataframe tbody tr th:only-of-type {\n",
       "        vertical-align: middle;\n",
       "    }\n",
       "\n",
       "    .dataframe tbody tr th {\n",
       "        vertical-align: top;\n",
       "    }\n",
       "\n",
       "    .dataframe thead th {\n",
       "        text-align: right;\n",
       "    }\n",
       "</style>\n",
       "<table border=\"1\" class=\"dataframe\">\n",
       "  <thead>\n",
       "    <tr style=\"text-align: right;\">\n",
       "      <th></th>\n",
       "      <th>Order ID</th>\n",
       "      <th>Product</th>\n",
       "      <th>Quantity Ordered</th>\n",
       "      <th>Price Each</th>\n",
       "      <th>Order Date</th>\n",
       "      <th>Purchase Address</th>\n",
       "    </tr>\n",
       "  </thead>\n",
       "  <tbody>\n",
       "    <tr>\n",
       "      <th>186840</th>\n",
       "      <td>259349</td>\n",
       "      <td>AAA Batteries (4-pack)</td>\n",
       "      <td>1</td>\n",
       "      <td>2.99</td>\n",
       "      <td>09/01/19 22:14</td>\n",
       "      <td>911 River St, Dallas, TX 75001</td>\n",
       "    </tr>\n",
       "    <tr>\n",
       "      <th>186841</th>\n",
       "      <td>259350</td>\n",
       "      <td>Google Phone</td>\n",
       "      <td>1</td>\n",
       "      <td>600</td>\n",
       "      <td>09/30/19 13:49</td>\n",
       "      <td>519 Maple St, San Francisco, CA 94016</td>\n",
       "    </tr>\n",
       "    <tr>\n",
       "      <th>186842</th>\n",
       "      <td>259350</td>\n",
       "      <td>USB-C Charging Cable</td>\n",
       "      <td>1</td>\n",
       "      <td>11.95</td>\n",
       "      <td>09/30/19 13:49</td>\n",
       "      <td>519 Maple St, San Francisco, CA 94016</td>\n",
       "    </tr>\n",
       "    <tr>\n",
       "      <th>186843</th>\n",
       "      <td>259351</td>\n",
       "      <td>Apple Airpods Headphones</td>\n",
       "      <td>1</td>\n",
       "      <td>150</td>\n",
       "      <td>09/01/19 19:43</td>\n",
       "      <td>981 4th St, New York City, NY 10001</td>\n",
       "    </tr>\n",
       "    <tr>\n",
       "      <th>186844</th>\n",
       "      <td>259352</td>\n",
       "      <td>USB-C Charging Cable</td>\n",
       "      <td>1</td>\n",
       "      <td>11.95</td>\n",
       "      <td>09/07/19 15:49</td>\n",
       "      <td>976 Forest St, San Francisco, CA 94016</td>\n",
       "    </tr>\n",
       "    <tr>\n",
       "      <th>186845</th>\n",
       "      <td>259353</td>\n",
       "      <td>AAA Batteries (4-pack)</td>\n",
       "      <td>3</td>\n",
       "      <td>2.99</td>\n",
       "      <td>09/17/19 20:56</td>\n",
       "      <td>840 Highland St, Los Angeles, CA 90001</td>\n",
       "    </tr>\n",
       "    <tr>\n",
       "      <th>186846</th>\n",
       "      <td>259354</td>\n",
       "      <td>iPhone</td>\n",
       "      <td>1</td>\n",
       "      <td>700</td>\n",
       "      <td>09/01/19 16:00</td>\n",
       "      <td>216 Dogwood St, San Francisco, CA 94016</td>\n",
       "    </tr>\n",
       "    <tr>\n",
       "      <th>186847</th>\n",
       "      <td>259355</td>\n",
       "      <td>iPhone</td>\n",
       "      <td>1</td>\n",
       "      <td>700</td>\n",
       "      <td>09/23/19 07:39</td>\n",
       "      <td>220 12th St, San Francisco, CA 94016</td>\n",
       "    </tr>\n",
       "    <tr>\n",
       "      <th>186848</th>\n",
       "      <td>259356</td>\n",
       "      <td>34in Ultrawide Monitor</td>\n",
       "      <td>1</td>\n",
       "      <td>379.99</td>\n",
       "      <td>09/19/19 17:30</td>\n",
       "      <td>511 Forest St, San Francisco, CA 94016</td>\n",
       "    </tr>\n",
       "    <tr>\n",
       "      <th>186849</th>\n",
       "      <td>259357</td>\n",
       "      <td>USB-C Charging Cable</td>\n",
       "      <td>1</td>\n",
       "      <td>11.95</td>\n",
       "      <td>09/30/19 00:18</td>\n",
       "      <td>250 Meadow St, San Francisco, CA 94016</td>\n",
       "    </tr>\n",
       "  </tbody>\n",
       "</table>\n",
       "</div>"
      ],
      "text/plain": [
       "       Order ID                   Product Quantity Ordered Price Each  \\\n",
       "186840   259349    AAA Batteries (4-pack)                1       2.99   \n",
       "186841   259350              Google Phone                1        600   \n",
       "186842   259350      USB-C Charging Cable                1      11.95   \n",
       "186843   259351  Apple Airpods Headphones                1        150   \n",
       "186844   259352      USB-C Charging Cable                1      11.95   \n",
       "186845   259353    AAA Batteries (4-pack)                3       2.99   \n",
       "186846   259354                    iPhone                1        700   \n",
       "186847   259355                    iPhone                1        700   \n",
       "186848   259356    34in Ultrawide Monitor                1     379.99   \n",
       "186849   259357      USB-C Charging Cable                1      11.95   \n",
       "\n",
       "            Order Date                         Purchase Address  \n",
       "186840  09/01/19 22:14           911 River St, Dallas, TX 75001  \n",
       "186841  09/30/19 13:49    519 Maple St, San Francisco, CA 94016  \n",
       "186842  09/30/19 13:49    519 Maple St, San Francisco, CA 94016  \n",
       "186843  09/01/19 19:43      981 4th St, New York City, NY 10001  \n",
       "186844  09/07/19 15:49   976 Forest St, San Francisco, CA 94016  \n",
       "186845  09/17/19 20:56   840 Highland St, Los Angeles, CA 90001  \n",
       "186846  09/01/19 16:00  216 Dogwood St, San Francisco, CA 94016  \n",
       "186847  09/23/19 07:39     220 12th St, San Francisco, CA 94016  \n",
       "186848  09/19/19 17:30   511 Forest St, San Francisco, CA 94016  \n",
       "186849  09/30/19 00:18   250 Meadow St, San Francisco, CA 94016  "
      ]
     },
     "execution_count": 4,
     "metadata": {},
     "output_type": "execute_result"
    }
   ],
   "source": [
    "combined_df.tail(10)"
   ]
  },
  {
   "cell_type": "markdown",
   "id": "6a8696ce",
   "metadata": {},
   "source": [
    "Next, look at some basic information about the columns."
   ]
  },
  {
   "cell_type": "code",
   "execution_count": 5,
   "id": "82388e05",
   "metadata": {},
   "outputs": [
    {
     "name": "stdout",
     "output_type": "stream",
     "text": [
      "<class 'pandas.core.frame.DataFrame'>\n",
      "RangeIndex: 186850 entries, 0 to 186849\n",
      "Data columns (total 6 columns):\n",
      " #   Column            Non-Null Count   Dtype \n",
      "---  ------            --------------   ----- \n",
      " 0   Order ID          186305 non-null  object\n",
      " 1   Product           186305 non-null  object\n",
      " 2   Quantity Ordered  186305 non-null  object\n",
      " 3   Price Each        186305 non-null  object\n",
      " 4   Order Date        186305 non-null  object\n",
      " 5   Purchase Address  186305 non-null  object\n",
      "dtypes: object(6)\n",
      "memory usage: 8.6+ MB\n"
     ]
    }
   ],
   "source": [
    "combined_df.info(show_counts=True)"
   ]
  },
  {
   "cell_type": "code",
   "execution_count": 6,
   "id": "a0e0d2e1",
   "metadata": {},
   "outputs": [
    {
     "data": {
      "text/html": [
       "<div>\n",
       "<style scoped>\n",
       "    .dataframe tbody tr th:only-of-type {\n",
       "        vertical-align: middle;\n",
       "    }\n",
       "\n",
       "    .dataframe tbody tr th {\n",
       "        vertical-align: top;\n",
       "    }\n",
       "\n",
       "    .dataframe thead th {\n",
       "        text-align: right;\n",
       "    }\n",
       "</style>\n",
       "<table border=\"1\" class=\"dataframe\">\n",
       "  <thead>\n",
       "    <tr style=\"text-align: right;\">\n",
       "      <th></th>\n",
       "      <th>Order ID</th>\n",
       "      <th>Product</th>\n",
       "      <th>Quantity Ordered</th>\n",
       "      <th>Price Each</th>\n",
       "      <th>Order Date</th>\n",
       "      <th>Purchase Address</th>\n",
       "    </tr>\n",
       "  </thead>\n",
       "  <tbody>\n",
       "    <tr>\n",
       "      <th>count</th>\n",
       "      <td>186305</td>\n",
       "      <td>186305</td>\n",
       "      <td>186305</td>\n",
       "      <td>186305</td>\n",
       "      <td>186305</td>\n",
       "      <td>186305</td>\n",
       "    </tr>\n",
       "    <tr>\n",
       "      <th>unique</th>\n",
       "      <td>178438</td>\n",
       "      <td>20</td>\n",
       "      <td>10</td>\n",
       "      <td>24</td>\n",
       "      <td>142396</td>\n",
       "      <td>140788</td>\n",
       "    </tr>\n",
       "    <tr>\n",
       "      <th>top</th>\n",
       "      <td>Order ID</td>\n",
       "      <td>USB-C Charging Cable</td>\n",
       "      <td>1</td>\n",
       "      <td>11.95</td>\n",
       "      <td>Order Date</td>\n",
       "      <td>Purchase Address</td>\n",
       "    </tr>\n",
       "    <tr>\n",
       "      <th>freq</th>\n",
       "      <td>355</td>\n",
       "      <td>21903</td>\n",
       "      <td>168552</td>\n",
       "      <td>21903</td>\n",
       "      <td>355</td>\n",
       "      <td>355</td>\n",
       "    </tr>\n",
       "  </tbody>\n",
       "</table>\n",
       "</div>"
      ],
      "text/plain": [
       "        Order ID               Product Quantity Ordered Price Each  \\\n",
       "count     186305                186305           186305     186305   \n",
       "unique    178438                    20               10         24   \n",
       "top     Order ID  USB-C Charging Cable                1      11.95   \n",
       "freq         355                 21903           168552      21903   \n",
       "\n",
       "        Order Date  Purchase Address  \n",
       "count       186305            186305  \n",
       "unique      142396            140788  \n",
       "top     Order Date  Purchase Address  \n",
       "freq           355               355  "
      ]
     },
     "execution_count": 6,
     "metadata": {},
     "output_type": "execute_result"
    }
   ],
   "source": [
    "combined_df.describe()"
   ]
  },
  {
   "cell_type": "code",
   "execution_count": 7,
   "id": "e6173e15",
   "metadata": {},
   "outputs": [
    {
     "name": "stdout",
     "output_type": "stream",
     "text": [
      "duplicated rows: 808 rows or  0.432 %\n"
     ]
    }
   ],
   "source": [
    "n_duplicated = combined_df[combined_df[\"Order ID\"] != \"Order ID\"].duplicated().sum()\n",
    "pct_duplicated = round(100 * n_duplicated / combined_df.shape[0], 3)\n",
    "print('duplicated rows:', n_duplicated, 'rows or ', pct_duplicated, '%')"
   ]
  },
  {
   "cell_type": "code",
   "execution_count": 8,
   "id": "67301bd3",
   "metadata": {},
   "outputs": [
    {
     "name": "stdout",
     "output_type": "stream",
     "text": [
      "rows with null Order ID: 545 rows, or 0.292 %\n",
      "rows with null Product: 545 rows, or 0.292 %\n",
      "rows with null Quantity Ordered: 545 rows, or 0.292 %\n",
      "rows with null Price Each: 545 rows, or 0.292 %\n",
      "rows with null Order Date: 545 rows, or 0.292 %\n",
      "rows with null Purchase Address: 545 rows, or 0.292 %\n"
     ]
    }
   ],
   "source": [
    "for col_name in combined_df.columns:\n",
    "    n_null = combined_df[col_name].isna().sum()\n",
    "    pct_null = round(100 * n_null / combined_df.shape[0], 3)\n",
    "    print('rows with null {}: {} rows, or {} %'.format(col_name, n_null, pct_null))"
   ]
  },
  {
   "cell_type": "markdown",
   "id": "2dc2ba69",
   "metadata": {},
   "source": [
    "Observations so far:\n",
    "- There are 20 unique products in the dataframe,\n",
    "- 355 rows contain column names instead of values,\n",
    "- duplicated rows make up 0.432 % of data (not counting column names in data fields or empty rows),\n",
    "- empty rows constitute 0.292 % of data,\n",
    "- there are some orders with more than one type of product ordered,\n",
    "- there is no actual missing data detected so far (only completely empty rows),\n",
    "- all columns are of data type \"string\" (pandas object)"
   ]
  },
  {
   "cell_type": "markdown",
   "id": "9b9f4728",
   "metadata": {},
   "source": [
    "<br>\n",
    "\n",
    "## 3. Data cleaning"
   ]
  },
  {
   "cell_type": "markdown",
   "id": "d4c85e0d",
   "metadata": {},
   "source": [
    "First, count the number of duplicated rows (without counting the first occurance)."
   ]
  },
  {
   "cell_type": "code",
   "execution_count": 9,
   "id": "355b8c2e",
   "metadata": {},
   "outputs": [
    {
     "name": "stdout",
     "output_type": "stream",
     "text": [
      "n of duplicated rows: 1162\n"
     ]
    }
   ],
   "source": [
    "print(\"n of duplicated rows:\", combined_df.duplicated().sum())"
   ]
  },
  {
   "cell_type": "markdown",
   "id": "ff62eda4",
   "metadata": {},
   "source": [
    "Drop the duplicated rows in place and check if the number of duplicated rows is indeed 0."
   ]
  },
  {
   "cell_type": "code",
   "execution_count": 10,
   "id": "20477c83",
   "metadata": {},
   "outputs": [
    {
     "name": "stdout",
     "output_type": "stream",
     "text": [
      "n of duplicated rows: 0\n"
     ]
    }
   ],
   "source": [
    "combined_df.drop_duplicates(keep='first', inplace=True)\n",
    "print(\"n of duplicated rows:\", combined_df.duplicated().sum())"
   ]
  },
  {
   "cell_type": "markdown",
   "id": "55fb6aeb",
   "metadata": {},
   "source": [
    "<br>\n",
    "\n",
    "Show the count of missing values in each column."
   ]
  },
  {
   "cell_type": "code",
   "execution_count": 11,
   "id": "a3a6d982",
   "metadata": {},
   "outputs": [
    {
     "data": {
      "text/plain": [
       "Order ID            1\n",
       "Product             1\n",
       "Quantity Ordered    1\n",
       "Price Each          1\n",
       "Order Date          1\n",
       "Purchase Address    1\n",
       "dtype: int64"
      ]
     },
     "execution_count": 11,
     "metadata": {},
     "output_type": "execute_result"
    }
   ],
   "source": [
    "combined_df.isna().sum()"
   ]
  },
  {
   "cell_type": "markdown",
   "id": "7f8d8493",
   "metadata": {},
   "source": [
    "Drop rows where all values are not available and check again."
   ]
  },
  {
   "cell_type": "code",
   "execution_count": 12,
   "id": "d31234c2",
   "metadata": {},
   "outputs": [
    {
     "data": {
      "text/plain": [
       "Order ID            0\n",
       "Product             0\n",
       "Quantity Ordered    0\n",
       "Price Each          0\n",
       "Order Date          0\n",
       "Purchase Address    0\n",
       "dtype: int64"
      ]
     },
     "execution_count": 12,
     "metadata": {},
     "output_type": "execute_result"
    }
   ],
   "source": [
    "combined_df.dropna(how='all', inplace=True)\n",
    "combined_df.isna().sum()"
   ]
  },
  {
   "cell_type": "markdown",
   "id": "7e31b2c0",
   "metadata": {},
   "source": [
    "<br>\n",
    "\n",
    "Show the rows where either \"Order ID\" or \"Quantity Ordered\" column is not a digit."
   ]
  },
  {
   "cell_type": "code",
   "execution_count": 13,
   "id": "e9edcab8",
   "metadata": {},
   "outputs": [
    {
     "data": {
      "text/html": [
       "<div>\n",
       "<style scoped>\n",
       "    .dataframe tbody tr th:only-of-type {\n",
       "        vertical-align: middle;\n",
       "    }\n",
       "\n",
       "    .dataframe tbody tr th {\n",
       "        vertical-align: top;\n",
       "    }\n",
       "\n",
       "    .dataframe thead th {\n",
       "        text-align: right;\n",
       "    }\n",
       "</style>\n",
       "<table border=\"1\" class=\"dataframe\">\n",
       "  <thead>\n",
       "    <tr style=\"text-align: right;\">\n",
       "      <th></th>\n",
       "      <th>Order ID</th>\n",
       "      <th>Product</th>\n",
       "      <th>Quantity Ordered</th>\n",
       "      <th>Price Each</th>\n",
       "      <th>Order Date</th>\n",
       "      <th>Purchase Address</th>\n",
       "    </tr>\n",
       "  </thead>\n",
       "  <tbody>\n",
       "    <tr>\n",
       "      <th>519</th>\n",
       "      <td>Order ID</td>\n",
       "      <td>Product</td>\n",
       "      <td>Quantity Ordered</td>\n",
       "      <td>Price Each</td>\n",
       "      <td>Order Date</td>\n",
       "      <td>Purchase Address</td>\n",
       "    </tr>\n",
       "  </tbody>\n",
       "</table>\n",
       "</div>"
      ],
      "text/plain": [
       "     Order ID  Product  Quantity Ordered  Price Each  Order Date  \\\n",
       "519  Order ID  Product  Quantity Ordered  Price Each  Order Date   \n",
       "\n",
       "     Purchase Address  \n",
       "519  Purchase Address  "
      ]
     },
     "execution_count": 13,
     "metadata": {},
     "output_type": "execute_result"
    }
   ],
   "source": [
    "combined_df[(combined_df['Order ID'].str.isdigit() == False) | \n",
    "            (combined_df['Quantity Ordered'].str.isdigit() == False)]"
   ]
  },
  {
   "cell_type": "markdown",
   "id": "20867637",
   "metadata": {},
   "source": [
    "Replace the dataframe with a filtered out version of itself."
   ]
  },
  {
   "cell_type": "code",
   "execution_count": 14,
   "id": "8001acba",
   "metadata": {},
   "outputs": [],
   "source": [
    "combined_df = combined_df[(combined_df['Order ID'].str.isdigit() == True) | \n",
    "                          (combined_df['Quantity Ordered'].str.isdigit() == True)]"
   ]
  },
  {
   "cell_type": "markdown",
   "id": "848f0f4f",
   "metadata": {
    "scrolled": true
   },
   "source": [
    "<br>\n",
    "\n",
    "## 4. Data wrangling"
   ]
  },
  {
   "cell_type": "markdown",
   "id": "911066e6",
   "metadata": {},
   "source": [
    "Change data types of the 'Order ID', 'Quantity Ordered' and 'Price Each' columns to int64, int16 and float respectively."
   ]
  },
  {
   "cell_type": "code",
   "execution_count": 15,
   "id": "30cb25b6",
   "metadata": {},
   "outputs": [],
   "source": [
    "combined_df['Order ID'] = combined_df['Order ID'].astype('int32')\n",
    "combined_df[\"Quantity Ordered\"] = combined_df[\"Quantity Ordered\"].astype('int16')\n",
    "combined_df[\"Price Each\"] = combined_df[\"Price Each\"].astype('float')"
   ]
  },
  {
   "cell_type": "markdown",
   "id": "1605eddb",
   "metadata": {},
   "source": [
    "<br>\n",
    "\n",
    "Convert 'Order Date' column do datetime data type."
   ]
  },
  {
   "cell_type": "code",
   "execution_count": 16,
   "id": "887fc326",
   "metadata": {},
   "outputs": [],
   "source": [
    "combined_df['Order Date'] = pd.to_datetime(combined_df['Order Date'])"
   ]
  },
  {
   "cell_type": "markdown",
   "id": "3fee2e5b",
   "metadata": {},
   "source": [
    "<br> Show data types of each column"
   ]
  },
  {
   "cell_type": "code",
   "execution_count": 17,
   "id": "6ebf0db7",
   "metadata": {},
   "outputs": [
    {
     "name": "stdout",
     "output_type": "stream",
     "text": [
      "Order ID                     int32\n",
      "Product                     object\n",
      "Quantity Ordered             int16\n",
      "Price Each                 float64\n",
      "Order Date          datetime64[ns]\n",
      "Purchase Address            object\n",
      "dtype: object\n"
     ]
    },
    {
     "data": {
      "text/html": [
       "<div>\n",
       "<style scoped>\n",
       "    .dataframe tbody tr th:only-of-type {\n",
       "        vertical-align: middle;\n",
       "    }\n",
       "\n",
       "    .dataframe tbody tr th {\n",
       "        vertical-align: top;\n",
       "    }\n",
       "\n",
       "    .dataframe thead th {\n",
       "        text-align: right;\n",
       "    }\n",
       "</style>\n",
       "<table border=\"1\" class=\"dataframe\">\n",
       "  <thead>\n",
       "    <tr style=\"text-align: right;\">\n",
       "      <th></th>\n",
       "      <th>Order ID</th>\n",
       "      <th>Product</th>\n",
       "      <th>Quantity Ordered</th>\n",
       "      <th>Price Each</th>\n",
       "      <th>Order Date</th>\n",
       "      <th>Purchase Address</th>\n",
       "    </tr>\n",
       "  </thead>\n",
       "  <tbody>\n",
       "    <tr>\n",
       "      <th>0</th>\n",
       "      <td>176558</td>\n",
       "      <td>USB-C Charging Cable</td>\n",
       "      <td>2</td>\n",
       "      <td>11.95</td>\n",
       "      <td>2019-04-19 08:46:00</td>\n",
       "      <td>917 1st St, Dallas, TX 75001</td>\n",
       "    </tr>\n",
       "    <tr>\n",
       "      <th>2</th>\n",
       "      <td>176559</td>\n",
       "      <td>Bose SoundSport Headphones</td>\n",
       "      <td>1</td>\n",
       "      <td>99.99</td>\n",
       "      <td>2019-04-07 22:30:00</td>\n",
       "      <td>682 Chestnut St, Boston, MA 02215</td>\n",
       "    </tr>\n",
       "    <tr>\n",
       "      <th>3</th>\n",
       "      <td>176560</td>\n",
       "      <td>Google Phone</td>\n",
       "      <td>1</td>\n",
       "      <td>600.00</td>\n",
       "      <td>2019-04-12 14:38:00</td>\n",
       "      <td>669 Spruce St, Los Angeles, CA 90001</td>\n",
       "    </tr>\n",
       "    <tr>\n",
       "      <th>4</th>\n",
       "      <td>176560</td>\n",
       "      <td>Wired Headphones</td>\n",
       "      <td>1</td>\n",
       "      <td>11.99</td>\n",
       "      <td>2019-04-12 14:38:00</td>\n",
       "      <td>669 Spruce St, Los Angeles, CA 90001</td>\n",
       "    </tr>\n",
       "    <tr>\n",
       "      <th>5</th>\n",
       "      <td>176561</td>\n",
       "      <td>Wired Headphones</td>\n",
       "      <td>1</td>\n",
       "      <td>11.99</td>\n",
       "      <td>2019-04-30 09:27:00</td>\n",
       "      <td>333 8th St, Los Angeles, CA 90001</td>\n",
       "    </tr>\n",
       "  </tbody>\n",
       "</table>\n",
       "</div>"
      ],
      "text/plain": [
       "   Order ID                     Product  Quantity Ordered  Price Each  \\\n",
       "0    176558        USB-C Charging Cable                 2       11.95   \n",
       "2    176559  Bose SoundSport Headphones                 1       99.99   \n",
       "3    176560                Google Phone                 1      600.00   \n",
       "4    176560            Wired Headphones                 1       11.99   \n",
       "5    176561            Wired Headphones                 1       11.99   \n",
       "\n",
       "           Order Date                      Purchase Address  \n",
       "0 2019-04-19 08:46:00          917 1st St, Dallas, TX 75001  \n",
       "2 2019-04-07 22:30:00     682 Chestnut St, Boston, MA 02215  \n",
       "3 2019-04-12 14:38:00  669 Spruce St, Los Angeles, CA 90001  \n",
       "4 2019-04-12 14:38:00  669 Spruce St, Los Angeles, CA 90001  \n",
       "5 2019-04-30 09:27:00     333 8th St, Los Angeles, CA 90001  "
      ]
     },
     "execution_count": 17,
     "metadata": {},
     "output_type": "execute_result"
    }
   ],
   "source": [
    "print(combined_df.dtypes)\n",
    "combined_df.head()"
   ]
  },
  {
   "cell_type": "markdown",
   "id": "8e0d946f",
   "metadata": {},
   "source": [
    "<br>\n",
    "\n",
    "Extract the month and time fields from 'Order Date' and rearrange the columns."
   ]
  },
  {
   "cell_type": "code",
   "execution_count": 18,
   "id": "3e4ee622",
   "metadata": {},
   "outputs": [
    {
     "data": {
      "text/html": [
       "<div>\n",
       "<style scoped>\n",
       "    .dataframe tbody tr th:only-of-type {\n",
       "        vertical-align: middle;\n",
       "    }\n",
       "\n",
       "    .dataframe tbody tr th {\n",
       "        vertical-align: top;\n",
       "    }\n",
       "\n",
       "    .dataframe thead th {\n",
       "        text-align: right;\n",
       "    }\n",
       "</style>\n",
       "<table border=\"1\" class=\"dataframe\">\n",
       "  <thead>\n",
       "    <tr style=\"text-align: right;\">\n",
       "      <th></th>\n",
       "      <th>Order ID</th>\n",
       "      <th>Product</th>\n",
       "      <th>Quantity Ordered</th>\n",
       "      <th>Price Each</th>\n",
       "      <th>Order Date</th>\n",
       "      <th>Order Month</th>\n",
       "      <th>Order Time</th>\n",
       "      <th>Purchase Address</th>\n",
       "    </tr>\n",
       "  </thead>\n",
       "  <tbody>\n",
       "    <tr>\n",
       "      <th>0</th>\n",
       "      <td>176558</td>\n",
       "      <td>USB-C Charging Cable</td>\n",
       "      <td>2</td>\n",
       "      <td>11.95</td>\n",
       "      <td>2019-04-19 08:46:00</td>\n",
       "      <td>4</td>\n",
       "      <td>08:46:00</td>\n",
       "      <td>917 1st St, Dallas, TX 75001</td>\n",
       "    </tr>\n",
       "    <tr>\n",
       "      <th>2</th>\n",
       "      <td>176559</td>\n",
       "      <td>Bose SoundSport Headphones</td>\n",
       "      <td>1</td>\n",
       "      <td>99.99</td>\n",
       "      <td>2019-04-07 22:30:00</td>\n",
       "      <td>4</td>\n",
       "      <td>22:30:00</td>\n",
       "      <td>682 Chestnut St, Boston, MA 02215</td>\n",
       "    </tr>\n",
       "    <tr>\n",
       "      <th>3</th>\n",
       "      <td>176560</td>\n",
       "      <td>Google Phone</td>\n",
       "      <td>1</td>\n",
       "      <td>600.00</td>\n",
       "      <td>2019-04-12 14:38:00</td>\n",
       "      <td>4</td>\n",
       "      <td>14:38:00</td>\n",
       "      <td>669 Spruce St, Los Angeles, CA 90001</td>\n",
       "    </tr>\n",
       "  </tbody>\n",
       "</table>\n",
       "</div>"
      ],
      "text/plain": [
       "   Order ID                     Product  Quantity Ordered  Price Each  \\\n",
       "0    176558        USB-C Charging Cable                 2       11.95   \n",
       "2    176559  Bose SoundSport Headphones                 1       99.99   \n",
       "3    176560                Google Phone                 1      600.00   \n",
       "\n",
       "           Order Date  Order Month Order Time  \\\n",
       "0 2019-04-19 08:46:00            4   08:46:00   \n",
       "2 2019-04-07 22:30:00            4   22:30:00   \n",
       "3 2019-04-12 14:38:00            4   14:38:00   \n",
       "\n",
       "                       Purchase Address  \n",
       "0          917 1st St, Dallas, TX 75001  \n",
       "2     682 Chestnut St, Boston, MA 02215  \n",
       "3  669 Spruce St, Los Angeles, CA 90001  "
      ]
     },
     "execution_count": 18,
     "metadata": {},
     "output_type": "execute_result"
    }
   ],
   "source": [
    "combined_df['Order Month'] = pd.DatetimeIndex(combined_df[\"Order Date\"]).month\n",
    "combined_df[\"Order Time\"] = pd.DatetimeIndex(combined_df[\"Order Date\"]).time\n",
    "combined_df = combined_df[[\"Order ID\", \"Product\", \"Quantity Ordered\", \"Price Each\",\n",
    "                           \"Order Date\", \"Order Month\", \"Order Time\", \"Purchase Address\"]]\n",
    "combined_df.head(3)"
   ]
  },
  {
   "cell_type": "markdown",
   "id": "dd2f0001",
   "metadata": {},
   "source": [
    "<br> Split the address into street, city, state symbol, postcode"
   ]
  },
  {
   "cell_type": "code",
   "execution_count": 19,
   "id": "397aa8c8",
   "metadata": {},
   "outputs": [
    {
     "data": {
      "text/html": [
       "<div>\n",
       "<style scoped>\n",
       "    .dataframe tbody tr th:only-of-type {\n",
       "        vertical-align: middle;\n",
       "    }\n",
       "\n",
       "    .dataframe tbody tr th {\n",
       "        vertical-align: top;\n",
       "    }\n",
       "\n",
       "    .dataframe thead th {\n",
       "        text-align: right;\n",
       "    }\n",
       "</style>\n",
       "<table border=\"1\" class=\"dataframe\">\n",
       "  <thead>\n",
       "    <tr style=\"text-align: right;\">\n",
       "      <th></th>\n",
       "      <th>Order ID</th>\n",
       "      <th>Product</th>\n",
       "      <th>Quantity Ordered</th>\n",
       "      <th>Price Each</th>\n",
       "      <th>Order Date</th>\n",
       "      <th>Order Month</th>\n",
       "      <th>Order Time</th>\n",
       "      <th>Purchase Address</th>\n",
       "      <th>Purchase Address Street</th>\n",
       "      <th>Purchase Address City</th>\n",
       "      <th>Purchase Address State</th>\n",
       "      <th>Purchase Address Zip Code</th>\n",
       "    </tr>\n",
       "  </thead>\n",
       "  <tbody>\n",
       "    <tr>\n",
       "      <th>0</th>\n",
       "      <td>176558</td>\n",
       "      <td>USB-C Charging Cable</td>\n",
       "      <td>2</td>\n",
       "      <td>11.95</td>\n",
       "      <td>2019-04-19 08:46:00</td>\n",
       "      <td>4</td>\n",
       "      <td>08:46:00</td>\n",
       "      <td>917 1st St, Dallas, TX 75001</td>\n",
       "      <td>917 1st St</td>\n",
       "      <td>Dallas</td>\n",
       "      <td>TX</td>\n",
       "      <td>75001</td>\n",
       "    </tr>\n",
       "    <tr>\n",
       "      <th>2</th>\n",
       "      <td>176559</td>\n",
       "      <td>Bose SoundSport Headphones</td>\n",
       "      <td>1</td>\n",
       "      <td>99.99</td>\n",
       "      <td>2019-04-07 22:30:00</td>\n",
       "      <td>4</td>\n",
       "      <td>22:30:00</td>\n",
       "      <td>682 Chestnut St, Boston, MA 02215</td>\n",
       "      <td>682 Chestnut St</td>\n",
       "      <td>Boston</td>\n",
       "      <td>MA</td>\n",
       "      <td>02215</td>\n",
       "    </tr>\n",
       "    <tr>\n",
       "      <th>3</th>\n",
       "      <td>176560</td>\n",
       "      <td>Google Phone</td>\n",
       "      <td>1</td>\n",
       "      <td>600.00</td>\n",
       "      <td>2019-04-12 14:38:00</td>\n",
       "      <td>4</td>\n",
       "      <td>14:38:00</td>\n",
       "      <td>669 Spruce St, Los Angeles, CA 90001</td>\n",
       "      <td>669 Spruce St</td>\n",
       "      <td>Los Angeles</td>\n",
       "      <td>CA</td>\n",
       "      <td>90001</td>\n",
       "    </tr>\n",
       "    <tr>\n",
       "      <th>4</th>\n",
       "      <td>176560</td>\n",
       "      <td>Wired Headphones</td>\n",
       "      <td>1</td>\n",
       "      <td>11.99</td>\n",
       "      <td>2019-04-12 14:38:00</td>\n",
       "      <td>4</td>\n",
       "      <td>14:38:00</td>\n",
       "      <td>669 Spruce St, Los Angeles, CA 90001</td>\n",
       "      <td>669 Spruce St</td>\n",
       "      <td>Los Angeles</td>\n",
       "      <td>CA</td>\n",
       "      <td>90001</td>\n",
       "    </tr>\n",
       "    <tr>\n",
       "      <th>5</th>\n",
       "      <td>176561</td>\n",
       "      <td>Wired Headphones</td>\n",
       "      <td>1</td>\n",
       "      <td>11.99</td>\n",
       "      <td>2019-04-30 09:27:00</td>\n",
       "      <td>4</td>\n",
       "      <td>09:27:00</td>\n",
       "      <td>333 8th St, Los Angeles, CA 90001</td>\n",
       "      <td>333 8th St</td>\n",
       "      <td>Los Angeles</td>\n",
       "      <td>CA</td>\n",
       "      <td>90001</td>\n",
       "    </tr>\n",
       "  </tbody>\n",
       "</table>\n",
       "</div>"
      ],
      "text/plain": [
       "   Order ID                     Product  Quantity Ordered  Price Each  \\\n",
       "0    176558        USB-C Charging Cable                 2       11.95   \n",
       "2    176559  Bose SoundSport Headphones                 1       99.99   \n",
       "3    176560                Google Phone                 1      600.00   \n",
       "4    176560            Wired Headphones                 1       11.99   \n",
       "5    176561            Wired Headphones                 1       11.99   \n",
       "\n",
       "           Order Date  Order Month Order Time  \\\n",
       "0 2019-04-19 08:46:00            4   08:46:00   \n",
       "2 2019-04-07 22:30:00            4   22:30:00   \n",
       "3 2019-04-12 14:38:00            4   14:38:00   \n",
       "4 2019-04-12 14:38:00            4   14:38:00   \n",
       "5 2019-04-30 09:27:00            4   09:27:00   \n",
       "\n",
       "                       Purchase Address Purchase Address Street  \\\n",
       "0          917 1st St, Dallas, TX 75001              917 1st St   \n",
       "2     682 Chestnut St, Boston, MA 02215         682 Chestnut St   \n",
       "3  669 Spruce St, Los Angeles, CA 90001           669 Spruce St   \n",
       "4  669 Spruce St, Los Angeles, CA 90001           669 Spruce St   \n",
       "5     333 8th St, Los Angeles, CA 90001              333 8th St   \n",
       "\n",
       "  Purchase Address City Purchase Address State Purchase Address Zip Code  \n",
       "0                Dallas                     TX                     75001  \n",
       "2                Boston                     MA                     02215  \n",
       "3           Los Angeles                     CA                     90001  \n",
       "4           Los Angeles                     CA                     90001  \n",
       "5           Los Angeles                     CA                     90001  "
      ]
     },
     "execution_count": 19,
     "metadata": {},
     "output_type": "execute_result"
    }
   ],
   "source": [
    "# create a dataframe from the split \"Purchase Address\" column and rename its columns\n",
    "expanded_address_df = combined_df.loc[:, 'Purchase Address'].str.split(', ', expand=True)\n",
    "expanded_address_df.rename(columns={0: \"Purchase Address Street\",1: \"Purchase Address City\",\n",
    "                                    2: \"Acronym & zip code\"}, inplace=True)\n",
    "\n",
    "# split the third column, containing state acronym and zip code, into two columns\n",
    "expanded_address_df[[\"Purchase Address State\", \"Purchase Address Zip Code\"]] = \\\n",
    "                                                        expanded_address_df[\"Acronym & zip code\"].str.split(' ', expand=True)\n",
    "\n",
    "# drop the third column\n",
    "expanded_address_df.drop(columns=\"Acronym & zip code\", inplace=True)\n",
    "\n",
    "# concatenate the original dataframe with expanded address fields\n",
    "combined_df = pd.concat([combined_df, expanded_address_df], axis=1)\n",
    "combined_df.head()"
   ]
  },
  {
   "cell_type": "markdown",
   "id": "e84bfe13",
   "metadata": {},
   "source": [
    "<br> Create calculated \"Total Price\" field and reorder the columns."
   ]
  },
  {
   "cell_type": "code",
   "execution_count": 20,
   "id": "7b25ea92",
   "metadata": {},
   "outputs": [
    {
     "data": {
      "text/html": [
       "<div>\n",
       "<style scoped>\n",
       "    .dataframe tbody tr th:only-of-type {\n",
       "        vertical-align: middle;\n",
       "    }\n",
       "\n",
       "    .dataframe tbody tr th {\n",
       "        vertical-align: top;\n",
       "    }\n",
       "\n",
       "    .dataframe thead th {\n",
       "        text-align: right;\n",
       "    }\n",
       "</style>\n",
       "<table border=\"1\" class=\"dataframe\">\n",
       "  <thead>\n",
       "    <tr style=\"text-align: right;\">\n",
       "      <th></th>\n",
       "      <th>Order ID</th>\n",
       "      <th>Product</th>\n",
       "      <th>Quantity Ordered</th>\n",
       "      <th>Price Each</th>\n",
       "      <th>Total Price</th>\n",
       "      <th>Order Date</th>\n",
       "      <th>Order Month</th>\n",
       "      <th>Order Time</th>\n",
       "      <th>Purchase Address</th>\n",
       "      <th>Purchase Address Street</th>\n",
       "      <th>Purchase Address City</th>\n",
       "      <th>Purchase Address State</th>\n",
       "      <th>Purchase Address Zip Code</th>\n",
       "    </tr>\n",
       "  </thead>\n",
       "  <tbody>\n",
       "    <tr>\n",
       "      <th>0</th>\n",
       "      <td>176558</td>\n",
       "      <td>USB-C Charging Cable</td>\n",
       "      <td>2</td>\n",
       "      <td>11.95</td>\n",
       "      <td>23.90</td>\n",
       "      <td>2019-04-19 08:46:00</td>\n",
       "      <td>4</td>\n",
       "      <td>08:46:00</td>\n",
       "      <td>917 1st St, Dallas, TX 75001</td>\n",
       "      <td>917 1st St</td>\n",
       "      <td>Dallas</td>\n",
       "      <td>TX</td>\n",
       "      <td>75001</td>\n",
       "    </tr>\n",
       "    <tr>\n",
       "      <th>2</th>\n",
       "      <td>176559</td>\n",
       "      <td>Bose SoundSport Headphones</td>\n",
       "      <td>1</td>\n",
       "      <td>99.99</td>\n",
       "      <td>99.99</td>\n",
       "      <td>2019-04-07 22:30:00</td>\n",
       "      <td>4</td>\n",
       "      <td>22:30:00</td>\n",
       "      <td>682 Chestnut St, Boston, MA 02215</td>\n",
       "      <td>682 Chestnut St</td>\n",
       "      <td>Boston</td>\n",
       "      <td>MA</td>\n",
       "      <td>02215</td>\n",
       "    </tr>\n",
       "    <tr>\n",
       "      <th>3</th>\n",
       "      <td>176560</td>\n",
       "      <td>Google Phone</td>\n",
       "      <td>1</td>\n",
       "      <td>600.00</td>\n",
       "      <td>600.00</td>\n",
       "      <td>2019-04-12 14:38:00</td>\n",
       "      <td>4</td>\n",
       "      <td>14:38:00</td>\n",
       "      <td>669 Spruce St, Los Angeles, CA 90001</td>\n",
       "      <td>669 Spruce St</td>\n",
       "      <td>Los Angeles</td>\n",
       "      <td>CA</td>\n",
       "      <td>90001</td>\n",
       "    </tr>\n",
       "    <tr>\n",
       "      <th>4</th>\n",
       "      <td>176560</td>\n",
       "      <td>Wired Headphones</td>\n",
       "      <td>1</td>\n",
       "      <td>11.99</td>\n",
       "      <td>11.99</td>\n",
       "      <td>2019-04-12 14:38:00</td>\n",
       "      <td>4</td>\n",
       "      <td>14:38:00</td>\n",
       "      <td>669 Spruce St, Los Angeles, CA 90001</td>\n",
       "      <td>669 Spruce St</td>\n",
       "      <td>Los Angeles</td>\n",
       "      <td>CA</td>\n",
       "      <td>90001</td>\n",
       "    </tr>\n",
       "    <tr>\n",
       "      <th>5</th>\n",
       "      <td>176561</td>\n",
       "      <td>Wired Headphones</td>\n",
       "      <td>1</td>\n",
       "      <td>11.99</td>\n",
       "      <td>11.99</td>\n",
       "      <td>2019-04-30 09:27:00</td>\n",
       "      <td>4</td>\n",
       "      <td>09:27:00</td>\n",
       "      <td>333 8th St, Los Angeles, CA 90001</td>\n",
       "      <td>333 8th St</td>\n",
       "      <td>Los Angeles</td>\n",
       "      <td>CA</td>\n",
       "      <td>90001</td>\n",
       "    </tr>\n",
       "  </tbody>\n",
       "</table>\n",
       "</div>"
      ],
      "text/plain": [
       "   Order ID                     Product  Quantity Ordered  Price Each  \\\n",
       "0    176558        USB-C Charging Cable                 2       11.95   \n",
       "2    176559  Bose SoundSport Headphones                 1       99.99   \n",
       "3    176560                Google Phone                 1      600.00   \n",
       "4    176560            Wired Headphones                 1       11.99   \n",
       "5    176561            Wired Headphones                 1       11.99   \n",
       "\n",
       "   Total Price          Order Date  Order Month Order Time  \\\n",
       "0        23.90 2019-04-19 08:46:00            4   08:46:00   \n",
       "2        99.99 2019-04-07 22:30:00            4   22:30:00   \n",
       "3       600.00 2019-04-12 14:38:00            4   14:38:00   \n",
       "4        11.99 2019-04-12 14:38:00            4   14:38:00   \n",
       "5        11.99 2019-04-30 09:27:00            4   09:27:00   \n",
       "\n",
       "                       Purchase Address Purchase Address Street  \\\n",
       "0          917 1st St, Dallas, TX 75001              917 1st St   \n",
       "2     682 Chestnut St, Boston, MA 02215         682 Chestnut St   \n",
       "3  669 Spruce St, Los Angeles, CA 90001           669 Spruce St   \n",
       "4  669 Spruce St, Los Angeles, CA 90001           669 Spruce St   \n",
       "5     333 8th St, Los Angeles, CA 90001              333 8th St   \n",
       "\n",
       "  Purchase Address City Purchase Address State Purchase Address Zip Code  \n",
       "0                Dallas                     TX                     75001  \n",
       "2                Boston                     MA                     02215  \n",
       "3           Los Angeles                     CA                     90001  \n",
       "4           Los Angeles                     CA                     90001  \n",
       "5           Los Angeles                     CA                     90001  "
      ]
     },
     "execution_count": 20,
     "metadata": {},
     "output_type": "execute_result"
    }
   ],
   "source": [
    "# create a calculated field\n",
    "combined_df[\"Total Price\"] = combined_df[\"Quantity Ordered\"] * combined_df[\"Price Each\"]\n",
    "\n",
    "# apply a new column order\n",
    "new_column_order = [\"Order ID\", \"Product\", \"Quantity Ordered\", \"Price Each\", \"Total Price\", \"Order Date\", \"Order Month\",\n",
    "                    \"Order Time\", \"Purchase Address\", \"Purchase Address Street\", \"Purchase Address City\",\n",
    "                    \"Purchase Address State\", \"Purchase Address Zip Code\"]\n",
    "combined_df = combined_df[new_column_order]\n",
    "\n",
    "combined_df.head()"
   ]
  },
  {
   "cell_type": "markdown",
   "id": "c3e7033d",
   "metadata": {},
   "source": [
    "<br> Split the dataframe into two dataframes:\n",
    "- first one for order items, where information about quantity and price of all order items will be stored,\n",
    "- second for shipping oriented information about orders, with only one row per order."
   ]
  },
  {
   "cell_type": "code",
   "execution_count": 21,
   "id": "6fdc7095",
   "metadata": {},
   "outputs": [
    {
     "data": {
      "text/html": [
       "<div>\n",
       "<style scoped>\n",
       "    .dataframe tbody tr th:only-of-type {\n",
       "        vertical-align: middle;\n",
       "    }\n",
       "\n",
       "    .dataframe tbody tr th {\n",
       "        vertical-align: top;\n",
       "    }\n",
       "\n",
       "    .dataframe thead th {\n",
       "        text-align: right;\n",
       "    }\n",
       "</style>\n",
       "<table border=\"1\" class=\"dataframe\">\n",
       "  <thead>\n",
       "    <tr style=\"text-align: right;\">\n",
       "      <th></th>\n",
       "      <th>Order ID</th>\n",
       "      <th>Product</th>\n",
       "      <th>Quantity Ordered</th>\n",
       "      <th>Price Each</th>\n",
       "      <th>Total Price</th>\n",
       "    </tr>\n",
       "  </thead>\n",
       "  <tbody>\n",
       "    <tr>\n",
       "      <th>0</th>\n",
       "      <td>176558</td>\n",
       "      <td>USB-C Charging Cable</td>\n",
       "      <td>2</td>\n",
       "      <td>11.95</td>\n",
       "      <td>23.90</td>\n",
       "    </tr>\n",
       "    <tr>\n",
       "      <th>2</th>\n",
       "      <td>176559</td>\n",
       "      <td>Bose SoundSport Headphones</td>\n",
       "      <td>1</td>\n",
       "      <td>99.99</td>\n",
       "      <td>99.99</td>\n",
       "    </tr>\n",
       "    <tr>\n",
       "      <th>3</th>\n",
       "      <td>176560</td>\n",
       "      <td>Google Phone</td>\n",
       "      <td>1</td>\n",
       "      <td>600.00</td>\n",
       "      <td>600.00</td>\n",
       "    </tr>\n",
       "  </tbody>\n",
       "</table>\n",
       "</div>"
      ],
      "text/plain": [
       "   Order ID                     Product  Quantity Ordered  Price Each  \\\n",
       "0    176558        USB-C Charging Cable                 2       11.95   \n",
       "2    176559  Bose SoundSport Headphones                 1       99.99   \n",
       "3    176560                Google Phone                 1      600.00   \n",
       "\n",
       "   Total Price  \n",
       "0        23.90  \n",
       "2        99.99  \n",
       "3       600.00  "
      ]
     },
     "execution_count": 21,
     "metadata": {},
     "output_type": "execute_result"
    }
   ],
   "source": [
    "order_items_cols = [\"Order ID\", \"Product\", \"Quantity Ordered\", \"Price Each\", \"Total Price\"]\n",
    "order_items_df = combined_df.loc[:, order_items_cols]\n",
    "order_items_df.head(3)"
   ]
  },
  {
   "cell_type": "markdown",
   "id": "f352a5e1",
   "metadata": {},
   "source": [
    "When creating the second dataframe, the orders with multiple products are flagged as duplicated. Those duplicated rows are dropped, leaving the first occurance of the row."
   ]
  },
  {
   "cell_type": "code",
   "execution_count": 22,
   "id": "959cd64a",
   "metadata": {},
   "outputs": [
    {
     "data": {
      "text/html": [
       "<div>\n",
       "<style scoped>\n",
       "    .dataframe tbody tr th:only-of-type {\n",
       "        vertical-align: middle;\n",
       "    }\n",
       "\n",
       "    .dataframe tbody tr th {\n",
       "        vertical-align: top;\n",
       "    }\n",
       "\n",
       "    .dataframe thead th {\n",
       "        text-align: right;\n",
       "    }\n",
       "</style>\n",
       "<table border=\"1\" class=\"dataframe\">\n",
       "  <thead>\n",
       "    <tr style=\"text-align: right;\">\n",
       "      <th></th>\n",
       "      <th>Order ID</th>\n",
       "      <th>Order Date</th>\n",
       "      <th>Order Month</th>\n",
       "      <th>Order Time</th>\n",
       "      <th>Purchase Address</th>\n",
       "      <th>Purchase Address Street</th>\n",
       "      <th>Purchase Address City</th>\n",
       "      <th>Purchase Address State</th>\n",
       "      <th>Purchase Address Zip Code</th>\n",
       "    </tr>\n",
       "  </thead>\n",
       "  <tbody>\n",
       "    <tr>\n",
       "      <th>0</th>\n",
       "      <td>176558</td>\n",
       "      <td>2019-04-19 08:46:00</td>\n",
       "      <td>4</td>\n",
       "      <td>08:46:00</td>\n",
       "      <td>917 1st St, Dallas, TX 75001</td>\n",
       "      <td>917 1st St</td>\n",
       "      <td>Dallas</td>\n",
       "      <td>TX</td>\n",
       "      <td>75001</td>\n",
       "    </tr>\n",
       "    <tr>\n",
       "      <th>2</th>\n",
       "      <td>176559</td>\n",
       "      <td>2019-04-07 22:30:00</td>\n",
       "      <td>4</td>\n",
       "      <td>22:30:00</td>\n",
       "      <td>682 Chestnut St, Boston, MA 02215</td>\n",
       "      <td>682 Chestnut St</td>\n",
       "      <td>Boston</td>\n",
       "      <td>MA</td>\n",
       "      <td>02215</td>\n",
       "    </tr>\n",
       "    <tr>\n",
       "      <th>3</th>\n",
       "      <td>176560</td>\n",
       "      <td>2019-04-12 14:38:00</td>\n",
       "      <td>4</td>\n",
       "      <td>14:38:00</td>\n",
       "      <td>669 Spruce St, Los Angeles, CA 90001</td>\n",
       "      <td>669 Spruce St</td>\n",
       "      <td>Los Angeles</td>\n",
       "      <td>CA</td>\n",
       "      <td>90001</td>\n",
       "    </tr>\n",
       "    <tr>\n",
       "      <th>5</th>\n",
       "      <td>176561</td>\n",
       "      <td>2019-04-30 09:27:00</td>\n",
       "      <td>4</td>\n",
       "      <td>09:27:00</td>\n",
       "      <td>333 8th St, Los Angeles, CA 90001</td>\n",
       "      <td>333 8th St</td>\n",
       "      <td>Los Angeles</td>\n",
       "      <td>CA</td>\n",
       "      <td>90001</td>\n",
       "    </tr>\n",
       "    <tr>\n",
       "      <th>6</th>\n",
       "      <td>176562</td>\n",
       "      <td>2019-04-29 13:03:00</td>\n",
       "      <td>4</td>\n",
       "      <td>13:03:00</td>\n",
       "      <td>381 Wilson St, San Francisco, CA 94016</td>\n",
       "      <td>381 Wilson St</td>\n",
       "      <td>San Francisco</td>\n",
       "      <td>CA</td>\n",
       "      <td>94016</td>\n",
       "    </tr>\n",
       "  </tbody>\n",
       "</table>\n",
       "</div>"
      ],
      "text/plain": [
       "   Order ID          Order Date  Order Month Order Time  \\\n",
       "0    176558 2019-04-19 08:46:00            4   08:46:00   \n",
       "2    176559 2019-04-07 22:30:00            4   22:30:00   \n",
       "3    176560 2019-04-12 14:38:00            4   14:38:00   \n",
       "5    176561 2019-04-30 09:27:00            4   09:27:00   \n",
       "6    176562 2019-04-29 13:03:00            4   13:03:00   \n",
       "\n",
       "                         Purchase Address Purchase Address Street  \\\n",
       "0            917 1st St, Dallas, TX 75001              917 1st St   \n",
       "2       682 Chestnut St, Boston, MA 02215         682 Chestnut St   \n",
       "3    669 Spruce St, Los Angeles, CA 90001           669 Spruce St   \n",
       "5       333 8th St, Los Angeles, CA 90001              333 8th St   \n",
       "6  381 Wilson St, San Francisco, CA 94016           381 Wilson St   \n",
       "\n",
       "  Purchase Address City Purchase Address State Purchase Address Zip Code  \n",
       "0                Dallas                     TX                     75001  \n",
       "2                Boston                     MA                     02215  \n",
       "3           Los Angeles                     CA                     90001  \n",
       "5           Los Angeles                     CA                     90001  \n",
       "6         San Francisco                     CA                     94016  "
      ]
     },
     "execution_count": 22,
     "metadata": {},
     "output_type": "execute_result"
    }
   ],
   "source": [
    "# create the orders dataframe from selection of columns\n",
    "orders_cols = [\"Order ID\", \"Order Date\", \"Order Month\", \"Order Time\", \"Purchase Address\", \"Purchase Address Street\",\n",
    "               \"Purchase Address City\", \"Purchase Address State\", \"Purchase Address Zip Code\"]\n",
    "orders_df = combined_df.loc[:, orders_cols]\n",
    "\n",
    "# drop rows with duplicated Order ID column, keeping the first occurance\n",
    "orders_df.drop_duplicates(subset=\"Order ID\", keep='first', inplace=True)\n",
    "orders_df.head()"
   ]
  },
  {
   "cell_type": "markdown",
   "id": "9fe8c9b3",
   "metadata": {},
   "source": [
    "<br> Show the final shapes of the cleaned and wrangled dataframes."
   ]
  },
  {
   "cell_type": "code",
   "execution_count": 23,
   "id": "fe9a7932",
   "metadata": {},
   "outputs": [
    {
     "name": "stdout",
     "output_type": "stream",
     "text": [
      "(185686, 5)\n",
      "(178437, 9)\n"
     ]
    }
   ],
   "source": [
    "print(order_items_df.shape)\n",
    "print(orders_df.shape)"
   ]
  },
  {
   "cell_type": "markdown",
   "id": "84825ec9",
   "metadata": {},
   "source": [
    "<br>\n",
    "\n",
    "## 5. Export the processed data"
   ]
  },
  {
   "cell_type": "markdown",
   "id": "86eb44cc",
   "metadata": {},
   "source": [
    "Save the order_items and orders dataframes to .csv files."
   ]
  },
  {
   "cell_type": "code",
   "execution_count": 24,
   "id": "208fe7d9",
   "metadata": {},
   "outputs": [],
   "source": [
    "# create a directory 'clean_data' if it doesn't exist\n",
    "export_dir_path = os.path.join(os.getcwd(), 'clean_data')\n",
    "if not os.path.exists(export_dir_path):\n",
    "    os.makedirs(export_dir_path)\n",
    "\n",
    "order_items_df.to_csv(os.path.join(export_dir_path, 'order_items.csv'), index=False)\n",
    "orders_df.to_csv(os.path.join(export_dir_path, 'orders.csv'), index=False)"
   ]
  },
  {
   "cell_type": "markdown",
   "id": "3e9626ed",
   "metadata": {},
   "source": [
    "<br>\n",
    "\n",
    "Now, the cleaned and wrangled data can be found in the clean_data directory in the form of two csv files."
   ]
  }
 ],
 "metadata": {
  "kernelspec": {
   "display_name": "Python 3 (ipykernel)",
   "language": "python",
   "name": "python3"
  },
  "language_info": {
   "codemirror_mode": {
    "name": "ipython",
    "version": 3
   },
   "file_extension": ".py",
   "mimetype": "text/x-python",
   "name": "python",
   "nbconvert_exporter": "python",
   "pygments_lexer": "ipython3",
   "version": "3.9.6"
  }
 },
 "nbformat": 4,
 "nbformat_minor": 5
}
