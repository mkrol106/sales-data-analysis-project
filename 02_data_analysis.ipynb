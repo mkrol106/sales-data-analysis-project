{
 "cells": [
  {
   "cell_type": "markdown",
   "id": "f768dfa8",
   "metadata": {},
   "source": [
    "# Data exploration"
   ]
  },
  {
   "cell_type": "markdown",
   "id": "2e514a2d",
   "metadata": {},
   "source": [
    "Import the necessary modules."
   ]
  },
  {
   "cell_type": "code",
   "execution_count": 1,
   "id": "7a225268",
   "metadata": {},
   "outputs": [],
   "source": [
    "import os\n",
    "import math\n",
    "import pandas as pd\n",
    "import numpy as np\n",
    "import matplotlib.pyplot as plt\n",
    "import seaborn as sns\n",
    "from scipy import stats"
   ]
  },
  {
   "cell_type": "markdown",
   "id": "a9a10326",
   "metadata": {},
   "source": [
    "<br>\n",
    "\n",
    "## 1. Import the cleaned data"
   ]
  },
  {
   "cell_type": "markdown",
   "id": "8b53eb05",
   "metadata": {},
   "source": [
    "\n",
    "Load the clean data files into pandas dataframes."
   ]
  },
  {
   "cell_type": "code",
   "execution_count": 2,
   "id": "241cf646",
   "metadata": {
    "tags": []
   },
   "outputs": [],
   "source": [
    "import_dir_path = os.path.join(os.getcwd(), 'clean_data')\n",
    "\n",
    "order_items_df = pd.read_csv(os.path.join(import_dir_path, 'order_items.csv'), index_col=None)\n",
    "orders_df = pd.read_csv(os.path.join(import_dir_path, 'orders.csv'), index_col=None)"
   ]
  },
  {
   "cell_type": "markdown",
   "id": "be1a598b",
   "metadata": {},
   "source": [
    "<br>\n",
    "\n",
    "Fix the default data types"
   ]
  },
  {
   "cell_type": "code",
   "execution_count": 3,
   "id": "3613fafb",
   "metadata": {
    "tags": [
     "hide-input"
    ]
   },
   "outputs": [],
   "source": [
    "order_items_df[\"Order ID\"] = order_items_df[\"Order ID\"].astype('int32')\n",
    "order_items_df[\"Quantity Ordered\"] = order_items_df[\"Quantity Ordered\"].astype('int16')\n",
    "orders_df[\"Order ID\"] = orders_df[\"Order ID\"].astype('int32')\n",
    "orders_df[\"Order Date\"] = pd.to_datetime(orders_df[\"Order Date\"])\n",
    "orders_df[\"Order Month\"] = orders_df[\"Order Month\"].astype('int8')\n",
    "orders_df[\"Order Time\"] = pd.to_datetime(orders_df[\"Order Time\"]).dt.time"
   ]
  },
  {
   "cell_type": "code",
   "execution_count": 4,
   "id": "a3e1809c",
   "metadata": {},
   "outputs": [
    {
     "name": "stdout",
     "output_type": "stream",
     "text": [
      "order_items dataframe:\n",
      " Order ID              int32\n",
      "Product              object\n",
      "Quantity Ordered      int16\n",
      "Price Each          float64\n",
      "Total Price         float64\n",
      "dtype: object\n",
      "\n",
      "orders dataframe:\n",
      " Order ID                              int32\n",
      "Order Date                   datetime64[ns]\n",
      "Order Month                            int8\n",
      "Order Time                           object\n",
      "Purchase Address                     object\n",
      "Purchase Address Street              object\n",
      "Purchase Address City                object\n",
      "Purchase Address State               object\n",
      "Purchase Address Zip Code             int64\n",
      "dtype: object\n"
     ]
    }
   ],
   "source": [
    "print(\"order_items dataframe:\\n\", order_items_df.dtypes)\n",
    "print(\"\\norders dataframe:\\n\", orders_df.dtypes)"
   ]
  },
  {
   "cell_type": "code",
   "execution_count": 5,
   "id": "dafe1bdc",
   "metadata": {},
   "outputs": [
    {
     "data": {
      "text/html": [
       "<div>\n",
       "<style scoped>\n",
       "    .dataframe tbody tr th:only-of-type {\n",
       "        vertical-align: middle;\n",
       "    }\n",
       "\n",
       "    .dataframe tbody tr th {\n",
       "        vertical-align: top;\n",
       "    }\n",
       "\n",
       "    .dataframe thead th {\n",
       "        text-align: right;\n",
       "    }\n",
       "</style>\n",
       "<table border=\"1\" class=\"dataframe\">\n",
       "  <thead>\n",
       "    <tr style=\"text-align: right;\">\n",
       "      <th></th>\n",
       "      <th>Order ID</th>\n",
       "      <th>Product</th>\n",
       "      <th>Quantity Ordered</th>\n",
       "      <th>Price Each</th>\n",
       "      <th>Total Price</th>\n",
       "    </tr>\n",
       "  </thead>\n",
       "  <tbody>\n",
       "    <tr>\n",
       "      <th>0</th>\n",
       "      <td>176558</td>\n",
       "      <td>USB-C Charging Cable</td>\n",
       "      <td>2</td>\n",
       "      <td>11.95</td>\n",
       "      <td>23.90</td>\n",
       "    </tr>\n",
       "    <tr>\n",
       "      <th>1</th>\n",
       "      <td>176559</td>\n",
       "      <td>Bose SoundSport Headphones</td>\n",
       "      <td>1</td>\n",
       "      <td>99.99</td>\n",
       "      <td>99.99</td>\n",
       "    </tr>\n",
       "    <tr>\n",
       "      <th>2</th>\n",
       "      <td>176560</td>\n",
       "      <td>Google Phone</td>\n",
       "      <td>1</td>\n",
       "      <td>600.00</td>\n",
       "      <td>600.00</td>\n",
       "    </tr>\n",
       "  </tbody>\n",
       "</table>\n",
       "</div>"
      ],
      "text/plain": [
       "   Order ID                     Product  Quantity Ordered  Price Each  \\\n",
       "0    176558        USB-C Charging Cable                 2       11.95   \n",
       "1    176559  Bose SoundSport Headphones                 1       99.99   \n",
       "2    176560                Google Phone                 1      600.00   \n",
       "\n",
       "   Total Price  \n",
       "0        23.90  \n",
       "1        99.99  \n",
       "2       600.00  "
      ]
     },
     "execution_count": 5,
     "metadata": {},
     "output_type": "execute_result"
    }
   ],
   "source": [
    "order_items_df.head(3)"
   ]
  },
  {
   "cell_type": "code",
   "execution_count": 6,
   "id": "33dce595",
   "metadata": {},
   "outputs": [
    {
     "data": {
      "text/html": [
       "<div>\n",
       "<style scoped>\n",
       "    .dataframe tbody tr th:only-of-type {\n",
       "        vertical-align: middle;\n",
       "    }\n",
       "\n",
       "    .dataframe tbody tr th {\n",
       "        vertical-align: top;\n",
       "    }\n",
       "\n",
       "    .dataframe thead th {\n",
       "        text-align: right;\n",
       "    }\n",
       "</style>\n",
       "<table border=\"1\" class=\"dataframe\">\n",
       "  <thead>\n",
       "    <tr style=\"text-align: right;\">\n",
       "      <th></th>\n",
       "      <th>Order ID</th>\n",
       "      <th>Order Date</th>\n",
       "      <th>Order Month</th>\n",
       "      <th>Order Time</th>\n",
       "      <th>Purchase Address</th>\n",
       "      <th>Purchase Address Street</th>\n",
       "      <th>Purchase Address City</th>\n",
       "      <th>Purchase Address State</th>\n",
       "      <th>Purchase Address Zip Code</th>\n",
       "    </tr>\n",
       "  </thead>\n",
       "  <tbody>\n",
       "    <tr>\n",
       "      <th>0</th>\n",
       "      <td>176558</td>\n",
       "      <td>2019-04-19 08:46:00</td>\n",
       "      <td>4</td>\n",
       "      <td>08:46:00</td>\n",
       "      <td>917 1st St, Dallas, TX 75001</td>\n",
       "      <td>917 1st St</td>\n",
       "      <td>Dallas</td>\n",
       "      <td>TX</td>\n",
       "      <td>75001</td>\n",
       "    </tr>\n",
       "    <tr>\n",
       "      <th>1</th>\n",
       "      <td>176559</td>\n",
       "      <td>2019-04-07 22:30:00</td>\n",
       "      <td>4</td>\n",
       "      <td>22:30:00</td>\n",
       "      <td>682 Chestnut St, Boston, MA 02215</td>\n",
       "      <td>682 Chestnut St</td>\n",
       "      <td>Boston</td>\n",
       "      <td>MA</td>\n",
       "      <td>2215</td>\n",
       "    </tr>\n",
       "    <tr>\n",
       "      <th>2</th>\n",
       "      <td>176560</td>\n",
       "      <td>2019-04-12 14:38:00</td>\n",
       "      <td>4</td>\n",
       "      <td>14:38:00</td>\n",
       "      <td>669 Spruce St, Los Angeles, CA 90001</td>\n",
       "      <td>669 Spruce St</td>\n",
       "      <td>Los Angeles</td>\n",
       "      <td>CA</td>\n",
       "      <td>90001</td>\n",
       "    </tr>\n",
       "  </tbody>\n",
       "</table>\n",
       "</div>"
      ],
      "text/plain": [
       "   Order ID          Order Date  Order Month Order Time  \\\n",
       "0    176558 2019-04-19 08:46:00            4   08:46:00   \n",
       "1    176559 2019-04-07 22:30:00            4   22:30:00   \n",
       "2    176560 2019-04-12 14:38:00            4   14:38:00   \n",
       "\n",
       "                       Purchase Address Purchase Address Street  \\\n",
       "0          917 1st St, Dallas, TX 75001              917 1st St   \n",
       "1     682 Chestnut St, Boston, MA 02215         682 Chestnut St   \n",
       "2  669 Spruce St, Los Angeles, CA 90001           669 Spruce St   \n",
       "\n",
       "  Purchase Address City Purchase Address State  Purchase Address Zip Code  \n",
       "0                Dallas                     TX                      75001  \n",
       "1                Boston                     MA                       2215  \n",
       "2           Los Angeles                     CA                      90001  "
      ]
     },
     "execution_count": 6,
     "metadata": {},
     "output_type": "execute_result"
    }
   ],
   "source": [
    "orders_df.head(3)"
   ]
  },
  {
   "cell_type": "markdown",
   "id": "2f236d3d",
   "metadata": {},
   "source": [
    "<br>\n",
    "\n",
    "## 2. Data Exploration"
   ]
  },
  {
   "cell_type": "markdown",
   "id": "08a56a3b",
   "metadata": {},
   "source": [
    "First, show the time range of the available data."
   ]
  },
  {
   "cell_type": "code",
   "execution_count": 7,
   "id": "ba64176b",
   "metadata": {},
   "outputs": [
    {
     "name": "stdout",
     "output_type": "stream",
     "text": [
      "Earliest record: 2019-01-01\n",
      "Latest record:   2020-01-01\n"
     ]
    }
   ],
   "source": [
    "print(   \"Earliest record: {}\".format( orders_df[\"Order Date\"].dt.date.min() )   )\n",
    "print(   \"Latest record:   {}\".format( orders_df[\"Order Date\"].dt.date.max() )   )"
   ]
  },
  {
   "cell_type": "markdown",
   "id": "96b59bf3",
   "metadata": {},
   "source": [
    "The data spans the whole year 2019, and a single day of 2020. Because of this disproportion, drop the data on year 2020."
   ]
  },
  {
   "cell_type": "code",
   "execution_count": 8,
   "id": "a2276fed",
   "metadata": {},
   "outputs": [
    {
     "name": "stdout",
     "output_type": "stream",
     "text": [
      "Latest record:   2019-12-31\n"
     ]
    }
   ],
   "source": [
    "orders_df = orders_df[orders_df[\"Order Date\"].dt.year == 2019]\n",
    "print(   \"Latest record:   {}\".format( orders_df[\"Order Date\"].dt.date.max() )   )"
   ]
  },
  {
   "cell_type": "code",
   "execution_count": 9,
   "id": "4b949b07",
   "metadata": {},
   "outputs": [],
   "source": [
    "order_items_df = order_items_df[order_items_df[\"Order ID\"].isin(orders_df[\"Order ID\"])]"
   ]
  },
  {
   "cell_type": "markdown",
   "id": "8dfc47ef",
   "metadata": {},
   "source": [
    "<br>\n",
    "\n",
    "Next, put all the order placement times in 1-hour bins and show their distribution."
   ]
  },
  {
   "cell_type": "code",
   "execution_count": 10,
   "id": "0128a878",
   "metadata": {},
   "outputs": [
    {
     "data": {
      "text/plain": [
       "Text(0, 0.5, 'orders placed during the hour')"
      ]
     },
     "execution_count": 10,
     "metadata": {},
     "output_type": "execute_result"
    },
    {
     "data": {
      "image/png": "[encoded data removed]",
      "text/plain": [
       "<Figure size 720x216 with 1 Axes>"
      ]
     },
     "metadata": {
      "needs_background": "light"
     },
     "output_type": "display_data"
    }
   ],
   "source": [
    "ax = orders_df[\"Order Date\"].dt.hour.plot(kind='hist', figsize=(10, 3), bins=np.arange(25) - 0.4,\n",
    "                                          xticks=np.arange(0, 24, 1), width=0.8)\n",
    "ax.set_title(\"Count of all orders placed for each hour of the day, for the whole year 2019\")\n",
    "ax.set_xlabel(\"Time (hour)\")\n",
    "ax.set_ylabel(\"orders placed during the hour\")"
   ]
  },
  {
   "cell_type": "markdown",
   "id": "293dc330",
   "metadata": {},
   "source": [
    "Next, show how many products were available, also show the quantity sold for the 5 most popular items."
   ]
  },
  {
   "cell_type": "code",
   "execution_count": 11,
   "id": "4e3e0276",
   "metadata": {},
   "outputs": [
    {
     "name": "stdout",
     "output_type": "stream",
     "text": [
      "Available products: 19\n"
     ]
    },
    {
     "data": {
      "text/html": [
       "<div>\n",
       "<style scoped>\n",
       "    .dataframe tbody tr th:only-of-type {\n",
       "        vertical-align: middle;\n",
       "    }\n",
       "\n",
       "    .dataframe tbody tr th {\n",
       "        vertical-align: top;\n",
       "    }\n",
       "\n",
       "    .dataframe thead th {\n",
       "        text-align: right;\n",
       "    }\n",
       "</style>\n",
       "<table border=\"1\" class=\"dataframe\">\n",
       "  <thead>\n",
       "    <tr style=\"text-align: right;\">\n",
       "      <th></th>\n",
       "      <th>Quantity Ordered</th>\n",
       "    </tr>\n",
       "    <tr>\n",
       "      <th>Product</th>\n",
       "      <th></th>\n",
       "    </tr>\n",
       "  </thead>\n",
       "  <tbody>\n",
       "    <tr>\n",
       "      <th>AAA Batteries (4-pack)</th>\n",
       "      <td>30981</td>\n",
       "    </tr>\n",
       "    <tr>\n",
       "      <th>AA Batteries (4-pack)</th>\n",
       "      <td>27615</td>\n",
       "    </tr>\n",
       "    <tr>\n",
       "      <th>USB-C Charging Cable</th>\n",
       "      <td>23927</td>\n",
       "    </tr>\n",
       "    <tr>\n",
       "      <th>Lightning Charging Cable</th>\n",
       "      <td>23163</td>\n",
       "    </tr>\n",
       "    <tr>\n",
       "      <th>Wired Headphones</th>\n",
       "      <td>20520</td>\n",
       "    </tr>\n",
       "  </tbody>\n",
       "</table>\n",
       "</div>"
      ],
      "text/plain": [
       "                          Quantity Ordered\n",
       "Product                                   \n",
       "AAA Batteries (4-pack)               30981\n",
       "AA Batteries (4-pack)                27615\n",
       "USB-C Charging Cable                 23927\n",
       "Lightning Charging Cable             23163\n",
       "Wired Headphones                     20520"
      ]
     },
     "execution_count": 11,
     "metadata": {},
     "output_type": "execute_result"
    }
   ],
   "source": [
    "print(\"Available products: {}\".format( len(order_items_df[\"Product\"].unique()) ))\n",
    "order_items_df.groupby(\"Product\")[[\"Quantity Ordered\"]].sum().sort_values(\"Quantity Ordered\", ascending=False).head(5)"
   ]
  },
  {
   "cell_type": "markdown",
   "id": "a460c9ba",
   "metadata": {},
   "source": [
    "<br>\n",
    "\n",
    "Lastly, show the total sales for the year"
   ]
  },
  {
   "cell_type": "code",
   "execution_count": 12,
   "id": "41a8dc0d",
   "metadata": {},
   "outputs": [
    {
     "name": "stdout",
     "output_type": "stream",
     "text": [
      "Total sales: 34'456'867.65 USD\n"
     ]
    }
   ],
   "source": [
    "total_sales = order_items_df[\"Total Price\"].sum()\n",
    "total_mlns = round(total_sales // pow(10, 6))\n",
    "total_ks   = round(total_sales % pow(10, 6)) // pow(10, 3)\n",
    "total_rest = round(total_sales % 1000, 2)\n",
    "print(\"Total sales: {}'{}'{} USD\".format(total_mlns, total_ks, total_rest))"
   ]
  },
  {
   "cell_type": "markdown",
   "id": "9c5647ab",
   "metadata": {},
   "source": [
    "<br>\n",
    "\n",
    "## 3. Data analysis"
   ]
  },
  {
   "cell_type": "markdown",
   "id": "aded462a",
   "metadata": {},
   "source": [
    "<br> Show the total number of orders and their distribution over months."
   ]
  },
  {
   "cell_type": "code",
   "execution_count": 13,
   "id": "48c18394",
   "metadata": {
    "jupyter": {
     "source_hidden": true
    },
    "tags": [
     "\"hide-input\""
    ]
   },
   "outputs": [
    {
     "name": "stdout",
     "output_type": "stream",
     "text": [
      "Total number of orders: 178406\n"
     ]
    },
    {
     "data": {
      "image/png": "[encoded data removed]",
      "text/plain": [
       "<Figure size 576x216 with 1 Axes>"
      ]
     },
     "metadata": {
      "needs_background": "light"
     },
     "output_type": "display_data"
    }
   ],
   "source": [
    "print(\"Total number of orders:\", orders_df[\"Order ID\"].count())\n",
    "\n",
    "# create a dataframe based on orders dataframe, grouped by month, and count the orders.\n",
    "orders_by_month = orders_df.groupby(\"Order Month\", as_index=False)[\"Order ID\"].count()\n",
    "orders_by_month.rename(columns={\"Order ID\": \"Count of Orders\"}, inplace=True)\n",
    "\n",
    "# create a column with a name of the month, for better axis readablity\n",
    "orders_by_month[\"Order Month Name\"] = pd.to_datetime(orders_by_month[\"Order Month\"], format='%m').dt.month_name()\n",
    "\n",
    "# plot the orders count against the month names\n",
    "ax = orders_by_month.plot(kind='bar', figsize=(8, 3), x=\"Order Month Name\", y=\"Count of Orders\", width=0.9,\n",
    "                          legend=None, zorder=10)\n",
    "ax.set_title(\"Monthly orders in 2019\")\n",
    "ax.set_xlabel(\"Order Month\")\n",
    "ax.set_ylabel(\"Number of orders\")\n",
    "ax.grid('on', which='major', axis='y')\n",
    "\n",
    "# orders_by_month"
   ]
  },
  {
   "cell_type": "markdown",
   "id": "ebb6078c",
   "metadata": {},
   "source": [
    "Monthly distribution of number of orders seems to be highly variant, reaching its peaks at April and December. Now show the hourly distribution."
   ]
  },
  {
   "cell_type": "code",
   "execution_count": 14,
   "id": "be0bd9d3",
   "metadata": {
    "jupyter": {
     "source_hidden": true
    },
    "tags": []
   },
   "outputs": [
    {
     "data": {
      "image/png": "[encoded data removed]",
      "text/plain": [
       "<Figure size 864x216 with 1 Axes>"
      ]
     },
     "metadata": {
      "needs_background": "light"
     },
     "output_type": "display_data"
    }
   ],
   "source": [
    "# temporarily create a field 'Rounded Time' from \"Order Date\" column\n",
    "orders_df[\"Rounded Time\"] = orders_df[\"Order Date\"].dt.round(freq='15T').dt.time\n",
    "\n",
    "# create a grouped version of orders dataframe\n",
    "orders_by_hour = orders_df.groupby(\"Rounded Time\", as_index=False)[\"Order ID\"].count()\n",
    "orders_by_hour.rename(columns={\"Order ID\": \"Count of Orders\"}, inplace=True)\n",
    "\n",
    "# drop the temporary fiel 'Rounded Time' from the original dataframe\n",
    "orders_df.drop([\"Rounded Time\"], axis=1, inplace=True)\n",
    "\n",
    "# plot the hourly count of orders\n",
    "ax = orders_by_hour.plot(figsize=(12, 3), kind='line', x=\"Rounded Time\", y=\"Count of Orders\", grid=True,\n",
    "                         xticks=np.arange(0, 24 * 60 * 60 + 0.001, 2 * 60 * 60), legend=None,\n",
    "                         xlim=(0, 24 * 60 * 60), ylim=(0, 3500))\n",
    "ax.set_title('Quarter-hourly distribution of number of orders in 2019')\n",
    "ax.set_xlabel(\"Order Time, rounded to nearest 15 min\")\n",
    "ax.set_ylabel(\"Count of Orders per 15 min\")\n",
    "ax.set_xticks(np.arange(0, 24 * 60 * 60 + 0.001, 1 * 60 * 60), minor=True)\n",
    "ax.grid('on', which='minor', axis='x')"
   ]
  },
  {
   "cell_type": "markdown",
   "id": "52bfd735",
   "metadata": {},
   "source": [
    "The highest order traffic can be observed at two periods of time, between 11:30 to 13:00 and between 18:45 and 20:15. During these hours, the traffic is almost identical, reaching above 3000 orders per 15 minutes.$\\newline$\n",
    "From the point of view of advertisment, 11:00 and 18:30, ought to be the most effective times for advertising, just before both peaks."
   ]
  },
  {
   "cell_type": "markdown",
   "id": "9cde8647",
   "metadata": {},
   "source": [
    "<br>\n",
    "\n",
    "Now, shifting the focus on sales, show monthly sales across the year."
   ]
  },
  {
   "cell_type": "code",
   "execution_count": 15,
   "id": "ba92221a",
   "metadata": {
    "jupyter": {
     "source_hidden": true
    },
    "tags": []
   },
   "outputs": [
    {
     "name": "stdout",
     "output_type": "stream",
     "text": [
      "Month with highest sales: December, reaching 4.608 mln USD\n"
     ]
    },
    {
     "data": {
      "image/png": "[encoded data removed]",
      "text/plain": [
       "<Figure size 720x216 with 1 Axes>"
      ]
     },
     "metadata": {
      "needs_background": "light"
     },
     "output_type": "display_data"
    }
   ],
   "source": [
    "# Expand the orders dataframe by sales information from order_items\n",
    "sales_df = order_items_df.groupby(\"Order ID\", as_index=False)[\"Total Price\"].sum()\n",
    "sales_df.rename(columns={\"Total Price\": \"Sales\"}, inplace=True)\n",
    "expanded_orders_df = pd.merge(orders_df, sales_df, on=[\"Order ID\"])\n",
    "\n",
    "# create a new dataframe based on expanded_orders dataframe, grouped by month\n",
    "monthly_sales = expanded_orders_df.groupby(\"Order Month\", as_index=False)[\"Sales\"].sum()\n",
    "monthly_sales[\"Sales mln USD\"] = monthly_sales[\"Sales\"] / pow(10, 6)\n",
    "\n",
    "# create a column with a name of the month, for better axis readablity\n",
    "monthly_sales[\"Order Month Name\"] = pd.to_datetime(monthly_sales[\"Order Month\"], format='%m').dt.month_name()\n",
    "\n",
    "# plot the sales against order month\n",
    "ax = monthly_sales.plot(kind='bar', figsize=(10, 3), x=\"Order Month Name\", y=\"Sales mln USD\", width=0.8,\n",
    "                        ylim=(0, 5), legend=None, zorder=10)\n",
    "ax.set_title(\"Monthly sales in 2019\")\n",
    "ax.set_xlabel(\"Order Month\")\n",
    "ax.set_ylabel(\"Sales in mln USD\")\n",
    "ax.grid('on', which='major', axis='y')\n",
    "\n",
    "# print the information about the best month in terms of sales\n",
    "best_month = monthly_sales[monthly_sales[\"Sales mln USD\"] == monthly_sales[\"Sales mln USD\"].max()]\n",
    "print(   \"Month with highest sales: {}, reaching {} mln USD\".format(\n",
    "                                                                    best_month[\"Order Month Name\"].values[0],\n",
    "                                                                    round(best_month[\"Sales mln USD\"].values[0], 3) )   )"
   ]
  },
  {
   "cell_type": "markdown",
   "id": "0b38707c",
   "metadata": {},
   "source": [
    "Sales distribution is similar to the distribution of orders. Similarily, two main peaks can be observed in April and December, where the highest peak of 4.608 mln USD occurred in December."
   ]
  },
  {
   "cell_type": "markdown",
   "id": "218d2b05",
   "metadata": {},
   "source": [
    "<br>\n",
    "\n",
    "#### Location\n",
    "\n",
    "Now, let's shift focus to geographic point of view. Show the states with the largest sales."
   ]
  },
  {
   "cell_type": "code",
   "execution_count": 16,
   "id": "c77fe4a4",
   "metadata": {},
   "outputs": [
    {
     "name": "stdout",
     "output_type": "stream",
     "text": [
      "State with the highest yearly sales: California, reaching 13.7 mln USD, which was 39.8 % of total sales\n"
     ]
    },
    {
     "data": {
      "image/png": "[encoded data removed]",
      "text/plain": [
       "<Figure size 576x216 with 1 Axes>"
      ]
     },
     "metadata": {
      "needs_background": "light"
     },
     "output_type": "display_data"
    }
   ],
   "source": [
    "# use the expanded dataframe from earlier, group it by state and sort by sales\n",
    "state_sales = expanded_orders_df.groupby(\"Purchase Address State\", as_index=False)[\"Sales\"].sum()\n",
    "state_sales.sort_values(\"Sales\", inplace=True, ascending=True)\n",
    "state_sales[\"Sales mln USD\"] = state_sales[\"Sales\"] / pow(10, 6)\n",
    "state_sales[\"Sales pct\"] = 100 * state_sales[\"Sales\"] / state_sales[\"Sales\"].sum()\n",
    "\n",
    "# create a new column with state names instead of acronyms\n",
    "state_dict = {\"CA\": \"California\", \"GA\": \"Georgia\", \"MA\": \"Massachusetts\", \"ME\": \"Maine\",\n",
    "              \"NY\": \"New York\", \"OR\": \"Oregon\", \"TX\": \"Texas\", \"WA\": \"Washington\"}\n",
    "state_sales[\"State Name\"] = state_sales[\"Purchase Address State\"].replace(state_dict)\n",
    "\n",
    "# plot sales against the state names\n",
    "ax = state_sales.plot(kind='barh', figsize=(8, 3), legend=None, y=\"Sales mln USD\", x=\"State Name\",\n",
    "                      width=0.8, zorder=10, xlim=(0, 14))\n",
    "ax.set_title(\"State sales in 2019\")\n",
    "ax.set_xlabel(\"Total yearly sales in mln USD\")\n",
    "ax.set_xticks(np.arange(0, 14 + 0.1, 1))\n",
    "ax.grid(axis='x')\n",
    "\n",
    "# print the information about the best state in terms of sales\n",
    "best_state = state_sales[state_sales[\"Sales mln USD\"] == state_sales[\"Sales mln USD\"].max()]\n",
    "print(\"State with the highest yearly sales: {}, reaching {} mln USD, which was {} % of total sales\".format(\n",
    "    best_state[\"State Name\"].values[0],\n",
    "    round(best_state[\"Sales mln USD\"].values[0], 3),\n",
    "    round(best_state[\"Sales mln USD\"].values[0] * 100 / state_sales[\"Sales mln USD\"].sum(), 1)\n",
    "))\n",
    "\n",
    "# state_sales"
   ]
  },
  {
   "cell_type": "markdown",
   "id": "08e49f2c",
   "metadata": {},
   "source": [
    "Data indicates that California dominates the yearly sales, being responsible for 39.8 % (13.7 mln USD) of total sales in 2019. All states responsible for at least 10 % of total sales are:\n",
    "- California, $\\quad\\;\\;$ at 39.8 % (13.703 mln USD),\n",
    "- New York, $\\quad\\;\\;$ at 13.5 % (4.662 mln USD),\n",
    "- Texas, $\\quad\\quad\\;\\;\\;$ at 13.3 % (4.583 mln USD),\n",
    "- Massachusetts, at 10.6 % (3.659 mln USD)."
   ]
  },
  {
   "cell_type": "markdown",
   "id": "df182c47",
   "metadata": {},
   "source": [
    "Now, show yearly sales for cities."
   ]
  },
  {
   "cell_type": "code",
   "execution_count": 17,
   "id": "b9257127",
   "metadata": {},
   "outputs": [
    {
     "data": {
      "text/html": [
       "<div>\n",
       "<style scoped>\n",
       "    .dataframe tbody tr th:only-of-type {\n",
       "        vertical-align: middle;\n",
       "    }\n",
       "\n",
       "    .dataframe tbody tr th {\n",
       "        vertical-align: top;\n",
       "    }\n",
       "\n",
       "    .dataframe thead th {\n",
       "        text-align: right;\n",
       "    }\n",
       "</style>\n",
       "<table border=\"1\" class=\"dataframe\">\n",
       "  <thead>\n",
       "    <tr style=\"text-align: right;\">\n",
       "      <th></th>\n",
       "      <th>Purchase Address City</th>\n",
       "      <th>Sales</th>\n",
       "      <th>Sales mln USD</th>\n",
       "      <th>Sales pct</th>\n",
       "    </tr>\n",
       "  </thead>\n",
       "  <tbody>\n",
       "    <tr>\n",
       "      <th>1</th>\n",
       "      <td>Austin</td>\n",
       "      <td>1817544.35</td>\n",
       "      <td>1.817544</td>\n",
       "      <td>5.274839</td>\n",
       "    </tr>\n",
       "    <tr>\n",
       "      <th>6</th>\n",
       "      <td>Portland</td>\n",
       "      <td>2319178.95</td>\n",
       "      <td>2.319179</td>\n",
       "      <td>6.730673</td>\n",
       "    </tr>\n",
       "    <tr>\n",
       "      <th>8</th>\n",
       "      <td>Seattle</td>\n",
       "      <td>2744896.03</td>\n",
       "      <td>2.744896</td>\n",
       "      <td>7.966180</td>\n",
       "    </tr>\n",
       "    <tr>\n",
       "      <th>3</th>\n",
       "      <td>Dallas</td>\n",
       "      <td>2763659.01</td>\n",
       "      <td>2.763659</td>\n",
       "      <td>8.020633</td>\n",
       "    </tr>\n",
       "    <tr>\n",
       "      <th>0</th>\n",
       "      <td>Atlanta</td>\n",
       "      <td>2794199.07</td>\n",
       "      <td>2.794199</td>\n",
       "      <td>8.109266</td>\n",
       "    </tr>\n",
       "    <tr>\n",
       "      <th>2</th>\n",
       "      <td>Boston</td>\n",
       "      <td>3657300.76</td>\n",
       "      <td>3.657301</td>\n",
       "      <td>10.614142</td>\n",
       "    </tr>\n",
       "    <tr>\n",
       "      <th>5</th>\n",
       "      <td>New York City</td>\n",
       "      <td>4660526.52</td>\n",
       "      <td>4.660527</td>\n",
       "      <td>13.525683</td>\n",
       "    </tr>\n",
       "    <tr>\n",
       "      <th>4</th>\n",
       "      <td>Los Angeles</td>\n",
       "      <td>5447304.29</td>\n",
       "      <td>5.447304</td>\n",
       "      <td>15.809052</td>\n",
       "    </tr>\n",
       "    <tr>\n",
       "      <th>7</th>\n",
       "      <td>San Francisco</td>\n",
       "      <td>8252258.67</td>\n",
       "      <td>8.252259</td>\n",
       "      <td>23.949532</td>\n",
       "    </tr>\n",
       "  </tbody>\n",
       "</table>\n",
       "</div>"
      ],
      "text/plain": [
       "  Purchase Address City       Sales  Sales mln USD  Sales pct\n",
       "1                Austin  1817544.35       1.817544   5.274839\n",
       "6              Portland  2319178.95       2.319179   6.730673\n",
       "8               Seattle  2744896.03       2.744896   7.966180\n",
       "3                Dallas  2763659.01       2.763659   8.020633\n",
       "0               Atlanta  2794199.07       2.794199   8.109266\n",
       "2                Boston  3657300.76       3.657301  10.614142\n",
       "5         New York City  4660526.52       4.660527  13.525683\n",
       "4           Los Angeles  5447304.29       5.447304  15.809052\n",
       "7         San Francisco  8252258.67       8.252259  23.949532"
      ]
     },
     "execution_count": 17,
     "metadata": {},
     "output_type": "execute_result"
    },
    {
     "data": {
      "image/png": "[encoded data removed]",
      "text/plain": [
       "<Figure size 576x216 with 1 Axes>"
      ]
     },
     "metadata": {
      "needs_background": "light"
     },
     "output_type": "display_data"
    }
   ],
   "source": [
    "# use the expanded dataframe from earlier, group it by state and sort by sales\n",
    "city_sales = expanded_orders_df.groupby(\"Purchase Address City\", as_index=False)[\"Sales\"].sum()\n",
    "city_sales.sort_values(\"Sales\", inplace=True, ascending=True)\n",
    "city_sales[\"Sales mln USD\"] = city_sales[\"Sales\"] / pow(10, 6)\n",
    "city_sales[\"Sales pct\"] = 100 * city_sales[\"Sales\"] / city_sales[\"Sales\"].sum()\n",
    "\n",
    "# plot sales against the city names\n",
    "ax = city_sales.plot(kind='barh', figsize=(8, 3), legend=None, y=\"Sales mln USD\", x=\"Purchase Address City\",\n",
    "                      width=0.8, zorder=10, xlim=(0, 10))\n",
    "ax.set_title(\"City sales in 2019\")\n",
    "ax.set_xlabel(\"Total yearly sales in mln USD\")\n",
    "ax.set_ylabel(\"City\")\n",
    "ax.set_xticks(np.arange(0, 10 + 0.1, 1))\n",
    "ax.grid(axis='x')\n",
    "\n",
    "city_sales"
   ]
  },
  {
   "cell_type": "markdown",
   "id": "476d66b0",
   "metadata": {},
   "source": [
    "The best city in terms of total sales turned out to be San Francisco, responsible for 24 % (8.255 mln USD) of total sales."
   ]
  },
  {
   "cell_type": "markdown",
   "id": "72344d14",
   "metadata": {},
   "source": [
    "<br>\n",
    "\n",
    "#### Products\n",
    "\n",
    "Let's start by finding 10 most popular products."
   ]
  },
  {
   "cell_type": "code",
   "execution_count": 18,
   "id": "de36d1f2",
   "metadata": {},
   "outputs": [
    {
     "data": {
      "text/html": [
       "<style type=\"text/css\">\n",
       "</style>\n",
       "<table id=\"T_fd705\">\n",
       "  <thead>\n",
       "    <tr>\n",
       "      <th class=\"blank level0\" >&nbsp;</th>\n",
       "      <th id=\"T_fd705_level0_col0\" class=\"col_heading level0 col0\" >Price Each</th>\n",
       "      <th id=\"T_fd705_level0_col1\" class=\"col_heading level0 col1\" >Quantity Ordered</th>\n",
       "      <th id=\"T_fd705_level0_col2\" class=\"col_heading level0 col2\" >Sales</th>\n",
       "    </tr>\n",
       "    <tr>\n",
       "      <th class=\"index_name level0\" >Product</th>\n",
       "      <th class=\"blank col0\" >&nbsp;</th>\n",
       "      <th class=\"blank col1\" >&nbsp;</th>\n",
       "      <th class=\"blank col2\" >&nbsp;</th>\n",
       "    </tr>\n",
       "  </thead>\n",
       "  <tbody>\n",
       "    <tr>\n",
       "      <th id=\"T_fd705_level0_row0\" class=\"row_heading level0 row0\" >AAA Batteries (4-pack)</th>\n",
       "      <td id=\"T_fd705_row0_col0\" class=\"data row0 col0\" >2.99</td>\n",
       "      <td id=\"T_fd705_row0_col1\" class=\"data row0 col1\" >30 981</td>\n",
       "      <td id=\"T_fd705_row0_col2\" class=\"data row0 col2\" >92 633.19</td>\n",
       "    </tr>\n",
       "    <tr>\n",
       "      <th id=\"T_fd705_level0_row1\" class=\"row_heading level0 row1\" >AA Batteries (4-pack)</th>\n",
       "      <td id=\"T_fd705_row1_col0\" class=\"data row1 col0\" >3.84</td>\n",
       "      <td id=\"T_fd705_row1_col1\" class=\"data row1 col1\" >27 615</td>\n",
       "      <td id=\"T_fd705_row1_col2\" class=\"data row1 col2\" >106 041.60</td>\n",
       "    </tr>\n",
       "    <tr>\n",
       "      <th id=\"T_fd705_level0_row2\" class=\"row_heading level0 row2\" >USB-C Charging Cable</th>\n",
       "      <td id=\"T_fd705_row2_col0\" class=\"data row2 col0\" >11.95</td>\n",
       "      <td id=\"T_fd705_row2_col1\" class=\"data row2 col1\" >23 927</td>\n",
       "      <td id=\"T_fd705_row2_col2\" class=\"data row2 col2\" >285 927.65</td>\n",
       "    </tr>\n",
       "    <tr>\n",
       "      <th id=\"T_fd705_level0_row3\" class=\"row_heading level0 row3\" >Lightning Charging Cable</th>\n",
       "      <td id=\"T_fd705_row3_col0\" class=\"data row3 col0\" >14.95</td>\n",
       "      <td id=\"T_fd705_row3_col1\" class=\"data row3 col1\" >23 163</td>\n",
       "      <td id=\"T_fd705_row3_col2\" class=\"data row3 col2\" >346 286.85</td>\n",
       "    </tr>\n",
       "    <tr>\n",
       "      <th id=\"T_fd705_level0_row4\" class=\"row_heading level0 row4\" >Wired Headphones</th>\n",
       "      <td id=\"T_fd705_row4_col0\" class=\"data row4 col0\" >11.99</td>\n",
       "      <td id=\"T_fd705_row4_col1\" class=\"data row4 col1\" >20 520</td>\n",
       "      <td id=\"T_fd705_row4_col2\" class=\"data row4 col2\" >246 034.80</td>\n",
       "    </tr>\n",
       "    <tr>\n",
       "      <th id=\"T_fd705_level0_row5\" class=\"row_heading level0 row5\" >Apple Airpods Headphones</th>\n",
       "      <td id=\"T_fd705_row5_col0\" class=\"data row5 col0\" >150.00</td>\n",
       "      <td id=\"T_fd705_row5_col1\" class=\"data row5 col1\" >15 633</td>\n",
       "      <td id=\"T_fd705_row5_col2\" class=\"data row5 col2\" >2 344 950.00</td>\n",
       "    </tr>\n",
       "    <tr>\n",
       "      <th id=\"T_fd705_level0_row6\" class=\"row_heading level0 row6\" >Bose SoundSport Headphones</th>\n",
       "      <td id=\"T_fd705_row6_col0\" class=\"data row6 col0\" >99.99</td>\n",
       "      <td id=\"T_fd705_row6_col1\" class=\"data row6 col1\" >13 427</td>\n",
       "      <td id=\"T_fd705_row6_col2\" class=\"data row6 col2\" >1 342 565.73</td>\n",
       "    </tr>\n",
       "    <tr>\n",
       "      <th id=\"T_fd705_level0_row7\" class=\"row_heading level0 row7\" >27in FHD Monitor</th>\n",
       "      <td id=\"T_fd705_row7_col0\" class=\"data row7 col0\" >149.99</td>\n",
       "      <td id=\"T_fd705_row7_col1\" class=\"data row7 col1\" >7 538</td>\n",
       "      <td id=\"T_fd705_row7_col2\" class=\"data row7 col2\" >1 130 624.62</td>\n",
       "    </tr>\n",
       "    <tr>\n",
       "      <th id=\"T_fd705_level0_row8\" class=\"row_heading level0 row8\" >iPhone</th>\n",
       "      <td id=\"T_fd705_row8_col0\" class=\"data row8 col0\" >700.00</td>\n",
       "      <td id=\"T_fd705_row8_col1\" class=\"data row8 col1\" >6 845</td>\n",
       "      <td id=\"T_fd705_row8_col2\" class=\"data row8 col2\" >4 791 500.00</td>\n",
       "    </tr>\n",
       "    <tr>\n",
       "      <th id=\"T_fd705_level0_row9\" class=\"row_heading level0 row9\" >27in 4K Gaming Monitor</th>\n",
       "      <td id=\"T_fd705_row9_col0\" class=\"data row9 col0\" >389.99</td>\n",
       "      <td id=\"T_fd705_row9_col1\" class=\"data row9 col1\" >6 238</td>\n",
       "      <td id=\"T_fd705_row9_col2\" class=\"data row9 col2\" >2 432 757.62</td>\n",
       "    </tr>\n",
       "  </tbody>\n",
       "</table>\n"
      ],
      "text/plain": [
       "<pandas.io.formats.style.Styler at 0x222d29e4070>"
      ]
     },
     "execution_count": 18,
     "metadata": {},
     "output_type": "execute_result"
    }
   ],
   "source": [
    "# group the order_items dataframe by product name, in order to sum sales and quantities ordered\n",
    "items_df = order_items_df.groupby(\"Product\", as_index=False)[[\"Quantity Ordered\", \"Total Price\"]].sum()\n",
    "items_df.rename(columns={\"Total Price\": \"Sales\"}, inplace=True)\n",
    "items_df[\"Sales mln USD\"] = items_df[\"Sales\"] / pow(10, 6)\n",
    "items_df.sort_values(\"Quantity Ordered\", ascending=False, inplace=True)\n",
    "items_df.reset_index(drop=True, inplace=True)\n",
    "\n",
    "# add information about the proudct unit prices\n",
    "items_prices = order_items_df.loc[:, [\"Product\", \"Price Each\"]].drop_duplicates()\n",
    "items_prices.reset_index(drop=True, inplace=True)\n",
    "items_df = items_df.merge(items_prices, how='left', on=\"Product\")\n",
    "items_df[[\"Product\", \"Price Each\", \"Quantity Ordered\", \"Sales\"]].set_index(\"Product\").head(10)\\\n",
    "                                                                .style.format(precision=2, thousands=\" \")"
   ]
  },
  {
   "cell_type": "markdown",
   "id": "2b345a25",
   "metadata": {},
   "source": [
    "The most popular product turned out to be AAA battery pack (\\~31 k orders), followed closely by AA battery pack (\\~28 k orders). Both of those products are considerably cheaper than the rest of the products, and the whole table suggests strong correlation between product's price and it's popularity.\n",
    "\n",
    "To delve deeper into the correlation between product's unit price and it's performance, show the Pearson correlation coefficients between chosen variables."
   ]
  },
  {
   "cell_type": "code",
   "execution_count": 19,
   "id": "1f9ddc7e",
   "metadata": {},
   "outputs": [
    {
     "data": {
      "text/html": [
       "<style type=\"text/css\">\n",
       "</style>\n",
       "<table id=\"T_409da\">\n",
       "  <caption>Pearson correlation coefficients for product's unit price:</caption>\n",
       "  <thead>\n",
       "    <tr>\n",
       "      <th class=\"blank level0\" >&nbsp;</th>\n",
       "      <th id=\"T_409da_level0_col0\" class=\"col_heading level0 col0\" >Price Each</th>\n",
       "      <th id=\"T_409da_level0_col1\" class=\"col_heading level0 col1\" >Quantity Ordered</th>\n",
       "      <th id=\"T_409da_level0_col2\" class=\"col_heading level0 col2\" >Sales</th>\n",
       "    </tr>\n",
       "  </thead>\n",
       "  <tbody>\n",
       "    <tr>\n",
       "      <th id=\"T_409da_level0_row0\" class=\"row_heading level0 row0\" >Price Each</th>\n",
       "      <td id=\"T_409da_row0_col0\" class=\"data row0 col0\" >1.000000</td>\n",
       "      <td id=\"T_409da_row0_col1\" class=\"data row0 col1\" >-0.601277</td>\n",
       "      <td id=\"T_409da_row0_col2\" class=\"data row0 col2\" >0.865570</td>\n",
       "    </tr>\n",
       "  </tbody>\n",
       "</table>\n"
      ],
      "text/plain": [
       "<pandas.io.formats.style.Styler at 0x222d2b3cca0>"
      ]
     },
     "execution_count": 19,
     "metadata": {},
     "output_type": "execute_result"
    }
   ],
   "source": [
    "# use the grouped dataframe from the previous code cell\n",
    "price_corr = items_df[[\"Price Each\", \"Quantity Ordered\", \"Sales\"]].corr().loc[[\"Price Each\"], :]\n",
    "price_corr.style.set_caption(\"Pearson correlation coefficients for product's unit price:\")"
   ]
  },
  {
   "cell_type": "markdown",
   "id": "2e6cb9bd",
   "metadata": {},
   "source": [
    "As expected, the correlation analysis suggests significant negative correlation between unit price and quantity of product sold. This means that expensive products are ordered less frequently. However, the strong correlation between unit price and sales means that those expensive products, even though ordered less frequently, are responsible for larger amount of total sales.\n",
    "$\\newline$\n",
    "To better explore the correlation between unit price and sales, the linear regression model was plotted and described."
   ]
  },
  {
   "cell_type": "code",
   "execution_count": 20,
   "id": "3ff497dd",
   "metadata": {},
   "outputs": [
    {
     "data": {
      "image/png": "[encoded data removed]",
      "text/plain": [
       "<Figure size 576x288 with 1 Axes>"
      ]
     },
     "metadata": {},
     "output_type": "display_data"
    }
   ],
   "source": [
    "# get regression coefficients\n",
    "a, b, r, p, std_dev = stats.linregress(items_df[\"Price Each\"], items_df[\"Sales mln USD\"])\n",
    "\n",
    "# plot with regression line\n",
    "sns.set_theme(rc = {'figure.figsize':(8, 4)}, style=\"ticks\", palette=None)\n",
    "ax = sns.regplot(data=items_df, x=\"Price Each\", y=\"Sales mln USD\", ci=None)\n",
    "ax.annotate('regression line: y = {}x + {}\\n    r = {}\\n    $R^2$ = {}\\n    p = {}'.format(\n",
    "                round(a, 6), round(b, 6), round(r, 3), round(r*r, 3), round(p, 9)\n",
    "            ), xy=(0, 5))\n",
    "ax.set_title(\"Product yearly sales vs unit price, 2019\")\n",
    "ax.set_xlabel(\"Product's unit price, USD\")\n",
    "ax.set_ylabel(\"Product's total yearly sales, \\nmln USD\")\n",
    "# sns.despine()     # get rid of boundries to the top and right of the plot\n",
    "sns.reset_orig()  # this line prevents applying the current seaborn style to the next matplotlib plots"
   ]
  },
  {
   "cell_type": "markdown",
   "id": "9d4a08b0",
   "metadata": {},
   "source": [
    "<br>\n",
    "\n",
    "Now, let's shift the focus to the connection between the products. Show 10 most often combined products during purchase."
   ]
  },
  {
   "cell_type": "code",
   "execution_count": 21,
   "id": "c2422751",
   "metadata": {},
   "outputs": [
    {
     "data": {
      "text/html": [
       "<div>\n",
       "<style scoped>\n",
       "    .dataframe tbody tr th:only-of-type {\n",
       "        vertical-align: middle;\n",
       "    }\n",
       "\n",
       "    .dataframe tbody tr th {\n",
       "        vertical-align: top;\n",
       "    }\n",
       "\n",
       "    .dataframe thead th {\n",
       "        text-align: right;\n",
       "    }\n",
       "</style>\n",
       "<table border=\"1\" class=\"dataframe\">\n",
       "  <thead>\n",
       "    <tr style=\"text-align: right;\">\n",
       "      <th></th>\n",
       "      <th>Products in a pair</th>\n",
       "      <th>Occurrances</th>\n",
       "    </tr>\n",
       "  </thead>\n",
       "  <tbody>\n",
       "    <tr>\n",
       "      <th>0</th>\n",
       "      <td>Lightning Charging Cable, iPhone</td>\n",
       "      <td>1010</td>\n",
       "    </tr>\n",
       "    <tr>\n",
       "      <th>1</th>\n",
       "      <td>USB-C Charging Cable, Google Phone</td>\n",
       "      <td>997</td>\n",
       "    </tr>\n",
       "    <tr>\n",
       "      <th>2</th>\n",
       "      <td>AA Batteries (4-pack), AAA Batteries (4-pack)</td>\n",
       "      <td>738</td>\n",
       "    </tr>\n",
       "    <tr>\n",
       "      <th>3</th>\n",
       "      <td>Wired Headphones, iPhone</td>\n",
       "      <td>462</td>\n",
       "    </tr>\n",
       "    <tr>\n",
       "      <th>4</th>\n",
       "      <td>Google Phone, Wired Headphones</td>\n",
       "      <td>422</td>\n",
       "    </tr>\n",
       "    <tr>\n",
       "      <th>5</th>\n",
       "      <td>Apple Airpods Headphones, iPhone</td>\n",
       "      <td>372</td>\n",
       "    </tr>\n",
       "    <tr>\n",
       "      <th>6</th>\n",
       "      <td>USB-C Charging Cable, Vareebadd Phone</td>\n",
       "      <td>368</td>\n",
       "    </tr>\n",
       "    <tr>\n",
       "      <th>7</th>\n",
       "      <td>Bose SoundSport Headphones, Google Phone</td>\n",
       "      <td>228</td>\n",
       "    </tr>\n",
       "    <tr>\n",
       "      <th>8</th>\n",
       "      <td>USB-C Charging Cable, Wired Headphones</td>\n",
       "      <td>203</td>\n",
       "    </tr>\n",
       "    <tr>\n",
       "      <th>9</th>\n",
       "      <td>Lightning Charging Cable, AA Batteries (4-pack)</td>\n",
       "      <td>186</td>\n",
       "    </tr>\n",
       "  </tbody>\n",
       "</table>\n",
       "</div>"
      ],
      "text/plain": [
       "                                Products in a pair  Occurrances\n",
       "0                 Lightning Charging Cable, iPhone         1010\n",
       "1               USB-C Charging Cable, Google Phone          997\n",
       "2    AA Batteries (4-pack), AAA Batteries (4-pack)          738\n",
       "3                         Wired Headphones, iPhone          462\n",
       "4                   Google Phone, Wired Headphones          422\n",
       "5                 Apple Airpods Headphones, iPhone          372\n",
       "6            USB-C Charging Cable, Vareebadd Phone          368\n",
       "7         Bose SoundSport Headphones, Google Phone          228\n",
       "8           USB-C Charging Cable, Wired Headphones          203\n",
       "9  Lightning Charging Cable, AA Batteries (4-pack)          186"
      ]
     },
     "execution_count": 21,
     "metadata": {},
     "output_type": "execute_result"
    }
   ],
   "source": [
    "# create a list of possible combinations of product pairs, where the order is not important\n",
    "# len = n! / ( k! * (n-k)! ), where n is a number of available products, and k = 2, being a number of items in a combination\n",
    "unique_items = list(order_items_df[\"Product\"].unique())\n",
    "pairs = [(item1, item2)\n",
    "            for i, item1 in enumerate(unique_items)\n",
    "            for j, item2 in enumerate(unique_items)\n",
    "            if i < j]\n",
    "\n",
    "# check if the number of combinations is as expected\n",
    "assert len(pairs) == math.factorial(len(unique_items)) // ( math.factorial(2) * math.factorial(len(unique_items) - 2) )\n",
    "\n",
    "# create a dataframe for large orders (more than 1 item ordered), for now copy the main order_items dataframe and sort by ID\n",
    "large_orders_df = order_items_df.loc[:, [\"Order ID\", \"Product\"]].sort_values(\"Order ID\").reset_index(drop=True)\n",
    "\n",
    "# add a column for number of products ordered in the order\n",
    "large_orders_df[\"n of items ordered\"] = large_orders_df.groupby('Order ID')[\"Order ID\"].transform('count')\n",
    "\n",
    "# filter out the orders with just one product ordered, then reset the index\n",
    "large_orders_df = large_orders_df[large_orders_df[\"n of items ordered\"] > 1].reset_index(drop=True)\n",
    "\n",
    "# group the dataframe by Order ID, in order to obtain a combined string of each order's product names\n",
    "products_in_orders_series = large_orders_df.groupby(\"Order ID\")[\"Product\"].apply(','.join)\n",
    "\n",
    "# for every pair of products, count how many orders have this pair appeared in\n",
    "pairs_data = []  # [ [\"item1, item2\", occurrances] ]\n",
    "for item_list in pairs:\n",
    "    # start with the series containing all product names in each order\n",
    "    filtered_series = products_in_orders_series.iloc[:]\n",
    "    \n",
    "    # for each item in a current pair, filter out entries that do not contain it\n",
    "    for item in item_list:\n",
    "        filtered_series = filtered_series[filtered_series.str.contains(item, regex=False)]\n",
    "    \n",
    "    # update the pairs_data list\n",
    "    pairs_data.append([', '.join(item_list), filtered_series.count()])\n",
    "\n",
    "# make a dataframe from the pairs_data list, sort it, reset the index and show 10 most popular pairs\n",
    "product_pairs_df = pd.DataFrame(pairs_data, columns=[\"Products in a pair\", \"Occurrances\"])\n",
    "product_pairs_df.sort_values(\"Occurrances\", ascending=False, inplace=True)\n",
    "product_pairs_df.reset_index(drop=True, inplace=True)\n",
    "product_pairs_df.head(10)"
   ]
  },
  {
   "cell_type": "markdown",
   "id": "8cb3e64c",
   "metadata": {},
   "source": [
    "The most popular product pairing was a Lightning Charging Cable combined with iPhone (in 1011 orders), followed closely by a combination of USB-C Charging Cable and Google Phone (in 997 orders)."
   ]
  }
 ],
 "metadata": {
  "kernelspec": {
   "display_name": "Python 3 (ipykernel)",
   "language": "python",
   "name": "python3"
  },
  "language_info": {
   "codemirror_mode": {
    "name": "ipython",
    "version": 3
   },
   "file_extension": ".py",
   "mimetype": "text/x-python",
   "name": "python",
   "nbconvert_exporter": "python",
   "pygments_lexer": "ipython3",
   "version": "3.9.6"
  }
 },
 "nbformat": 4,
 "nbformat_minor": 5
}
